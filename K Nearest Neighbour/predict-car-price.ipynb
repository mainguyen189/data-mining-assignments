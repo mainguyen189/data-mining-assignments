{
 "cells": [
  {
   "cell_type": "code",
   "execution_count": 56,
   "metadata": {
    "collapsed": true
   },
   "outputs": [],
   "source": [
    "import pandas as pd\n",
    "import numpy as np\n"
   ]
  },
  {
   "cell_type": "code",
   "execution_count": 57,
   "metadata": {
    "collapsed": false
   },
   "outputs": [
    {
     "data": {
      "text/html": [
       "<div>\n",
       "<style scoped>\n",
       "    .dataframe tbody tr th:only-of-type {\n",
       "        vertical-align: middle;\n",
       "    }\n",
       "\n",
       "    .dataframe tbody tr th {\n",
       "        vertical-align: top;\n",
       "    }\n",
       "\n",
       "    .dataframe thead th {\n",
       "        text-align: right;\n",
       "    }\n",
       "</style>\n",
       "<table border=\"1\" class=\"dataframe\">\n",
       "  <thead>\n",
       "    <tr style=\"text-align: right;\">\n",
       "      <th></th>\n",
       "      <th>symboling</th>\n",
       "      <th>normalized-losses</th>\n",
       "      <th>make</th>\n",
       "      <th>fuel-type</th>\n",
       "      <th>aspiration</th>\n",
       "      <th>num-of-doors</th>\n",
       "      <th>body-style</th>\n",
       "      <th>drive-wheels</th>\n",
       "      <th>engine-location</th>\n",
       "      <th>wheel-base</th>\n",
       "      <th>...</th>\n",
       "      <th>engine-size</th>\n",
       "      <th>fuel-system</th>\n",
       "      <th>bore</th>\n",
       "      <th>stroke</th>\n",
       "      <th>compression-rate</th>\n",
       "      <th>horsepower</th>\n",
       "      <th>peak-rpm</th>\n",
       "      <th>city-mpg</th>\n",
       "      <th>highway-mpg</th>\n",
       "      <th>price</th>\n",
       "    </tr>\n",
       "  </thead>\n",
       "  <tbody>\n",
       "    <tr>\n",
       "      <th>0</th>\n",
       "      <td>3</td>\n",
       "      <td>?</td>\n",
       "      <td>alfa-romero</td>\n",
       "      <td>gas</td>\n",
       "      <td>std</td>\n",
       "      <td>two</td>\n",
       "      <td>convertible</td>\n",
       "      <td>rwd</td>\n",
       "      <td>front</td>\n",
       "      <td>88.6</td>\n",
       "      <td>...</td>\n",
       "      <td>130</td>\n",
       "      <td>mpfi</td>\n",
       "      <td>3.47</td>\n",
       "      <td>2.68</td>\n",
       "      <td>9.0</td>\n",
       "      <td>111</td>\n",
       "      <td>5000</td>\n",
       "      <td>21</td>\n",
       "      <td>27</td>\n",
       "      <td>13495</td>\n",
       "    </tr>\n",
       "    <tr>\n",
       "      <th>1</th>\n",
       "      <td>3</td>\n",
       "      <td>?</td>\n",
       "      <td>alfa-romero</td>\n",
       "      <td>gas</td>\n",
       "      <td>std</td>\n",
       "      <td>two</td>\n",
       "      <td>convertible</td>\n",
       "      <td>rwd</td>\n",
       "      <td>front</td>\n",
       "      <td>88.6</td>\n",
       "      <td>...</td>\n",
       "      <td>130</td>\n",
       "      <td>mpfi</td>\n",
       "      <td>3.47</td>\n",
       "      <td>2.68</td>\n",
       "      <td>9.0</td>\n",
       "      <td>111</td>\n",
       "      <td>5000</td>\n",
       "      <td>21</td>\n",
       "      <td>27</td>\n",
       "      <td>16500</td>\n",
       "    </tr>\n",
       "  </tbody>\n",
       "</table>\n",
       "<p>2 rows × 26 columns</p>\n",
       "</div>"
      ],
      "text/plain": [
       "   symboling normalized-losses         make fuel-type aspiration num-of-doors  \\\n",
       "0          3                 ?  alfa-romero       gas        std          two   \n",
       "1          3                 ?  alfa-romero       gas        std          two   \n",
       "\n",
       "    body-style drive-wheels engine-location  wheel-base  ...    engine-size  \\\n",
       "0  convertible          rwd           front        88.6  ...            130   \n",
       "1  convertible          rwd           front        88.6  ...            130   \n",
       "\n",
       "   fuel-system  bore  stroke compression-rate horsepower  peak-rpm city-mpg  \\\n",
       "0         mpfi  3.47    2.68              9.0        111      5000       21   \n",
       "1         mpfi  3.47    2.68              9.0        111      5000       21   \n",
       "\n",
       "  highway-mpg  price  \n",
       "0          27  13495  \n",
       "1          27  16500  \n",
       "\n",
       "[2 rows x 26 columns]"
      ]
     },
     "execution_count": 57,
     "metadata": {},
     "output_type": "execute_result"
    }
   ],
   "source": [
    "cols = ['symboling', 'normalized-losses', 'make', 'fuel-type', 'aspiration', 'num-of-doors', 'body-style', \n",
    "        'drive-wheels', 'engine-location', 'wheel-base', 'length', 'width', 'height', 'curb-weight', 'engine-type', \n",
    "        'num-of-cylinders', 'engine-size', 'fuel-system', 'bore', 'stroke', 'compression-rate', 'horsepower', 'peak-rpm', 'city-mpg', 'highway-mpg', 'price']\n",
    "imports = pd.read_csv('imports-85.data', names=cols)\n",
    "\n",
    "imports.head(2)"
   ]
  },
  {
   "cell_type": "code",
   "execution_count": 58,
   "metadata": {
    "collapsed": false
   },
   "outputs": [
    {
     "data": {
      "text/html": [
       "<div>\n",
       "<style scoped>\n",
       "    .dataframe tbody tr th:only-of-type {\n",
       "        vertical-align: middle;\n",
       "    }\n",
       "\n",
       "    .dataframe tbody tr th {\n",
       "        vertical-align: top;\n",
       "    }\n",
       "\n",
       "    .dataframe thead th {\n",
       "        text-align: right;\n",
       "    }\n",
       "</style>\n",
       "<table border=\"1\" class=\"dataframe\">\n",
       "  <thead>\n",
       "    <tr style=\"text-align: right;\">\n",
       "      <th></th>\n",
       "      <th>symboling</th>\n",
       "      <th>normalized-losses</th>\n",
       "      <th>make</th>\n",
       "      <th>fuel-type</th>\n",
       "      <th>aspiration</th>\n",
       "      <th>num-of-doors</th>\n",
       "      <th>body-style</th>\n",
       "      <th>drive-wheels</th>\n",
       "      <th>engine-location</th>\n",
       "      <th>wheel-base</th>\n",
       "      <th>...</th>\n",
       "      <th>engine-size</th>\n",
       "      <th>fuel-system</th>\n",
       "      <th>bore</th>\n",
       "      <th>stroke</th>\n",
       "      <th>compression-rate</th>\n",
       "      <th>horsepower</th>\n",
       "      <th>peak-rpm</th>\n",
       "      <th>city-mpg</th>\n",
       "      <th>highway-mpg</th>\n",
       "      <th>price</th>\n",
       "    </tr>\n",
       "  </thead>\n",
       "  <tbody>\n",
       "    <tr>\n",
       "      <th>0</th>\n",
       "      <td>3</td>\n",
       "      <td>NaN</td>\n",
       "      <td>alfa-romero</td>\n",
       "      <td>gas</td>\n",
       "      <td>std</td>\n",
       "      <td>two</td>\n",
       "      <td>convertible</td>\n",
       "      <td>rwd</td>\n",
       "      <td>front</td>\n",
       "      <td>88.6</td>\n",
       "      <td>...</td>\n",
       "      <td>130</td>\n",
       "      <td>mpfi</td>\n",
       "      <td>3.47</td>\n",
       "      <td>2.68</td>\n",
       "      <td>9.0</td>\n",
       "      <td>111</td>\n",
       "      <td>5000</td>\n",
       "      <td>21</td>\n",
       "      <td>27</td>\n",
       "      <td>13495</td>\n",
       "    </tr>\n",
       "    <tr>\n",
       "      <th>1</th>\n",
       "      <td>3</td>\n",
       "      <td>NaN</td>\n",
       "      <td>alfa-romero</td>\n",
       "      <td>gas</td>\n",
       "      <td>std</td>\n",
       "      <td>two</td>\n",
       "      <td>convertible</td>\n",
       "      <td>rwd</td>\n",
       "      <td>front</td>\n",
       "      <td>88.6</td>\n",
       "      <td>...</td>\n",
       "      <td>130</td>\n",
       "      <td>mpfi</td>\n",
       "      <td>3.47</td>\n",
       "      <td>2.68</td>\n",
       "      <td>9.0</td>\n",
       "      <td>111</td>\n",
       "      <td>5000</td>\n",
       "      <td>21</td>\n",
       "      <td>27</td>\n",
       "      <td>16500</td>\n",
       "    </tr>\n",
       "  </tbody>\n",
       "</table>\n",
       "<p>2 rows × 26 columns</p>\n",
       "</div>"
      ],
      "text/plain": [
       "   symboling normalized-losses         make fuel-type aspiration num-of-doors  \\\n",
       "0          3               NaN  alfa-romero       gas        std          two   \n",
       "1          3               NaN  alfa-romero       gas        std          two   \n",
       "\n",
       "    body-style drive-wheels engine-location  wheel-base  ...    engine-size  \\\n",
       "0  convertible          rwd           front        88.6  ...            130   \n",
       "1  convertible          rwd           front        88.6  ...            130   \n",
       "\n",
       "   fuel-system  bore  stroke compression-rate horsepower  peak-rpm city-mpg  \\\n",
       "0         mpfi  3.47    2.68              9.0        111      5000       21   \n",
       "1         mpfi  3.47    2.68              9.0        111      5000       21   \n",
       "\n",
       "  highway-mpg  price  \n",
       "0          27  13495  \n",
       "1          27  16500  \n",
       "\n",
       "[2 rows x 26 columns]"
      ]
     },
     "execution_count": 58,
     "metadata": {},
     "output_type": "execute_result"
    }
   ],
   "source": [
    "# clean data\n",
    "imports = imports.replace('?', np.nan)\n",
    "imports.head(2)"
   ]
  },
  {
   "cell_type": "code",
   "execution_count": 59,
   "metadata": {
    "collapsed": false
   },
   "outputs": [],
   "source": [
    "#choose only continuous columns\n",
    "continuous_cols = ['normalized-losses', 'wheel-base', 'length', 'width', 'height', 'curb-weight', 'engine-size', 'bore', 'stroke', 'compression-rate', 'horsepower', 'peak-rpm', 'city-mpg', 'highway-mpg', 'price']\n",
    "imports = imports[continuous_cols]"
   ]
  },
  {
   "cell_type": "code",
   "execution_count": 60,
   "metadata": {
    "collapsed": false
   },
   "outputs": [
    {
     "name": "stdout",
     "output_type": "stream",
     "text": [
      "<class 'pandas.core.frame.DataFrame'>\n",
      "RangeIndex: 205 entries, 0 to 204\n",
      "Data columns (total 15 columns):\n",
      "normalized-losses    164 non-null object\n",
      "wheel-base           205 non-null float64\n",
      "length               205 non-null float64\n",
      "width                205 non-null float64\n",
      "height               205 non-null float64\n",
      "curb-weight          205 non-null int64\n",
      "engine-size          205 non-null int64\n",
      "bore                 201 non-null object\n",
      "stroke               201 non-null object\n",
      "compression-rate     205 non-null float64\n",
      "horsepower           203 non-null object\n",
      "peak-rpm             203 non-null object\n",
      "city-mpg             205 non-null int64\n",
      "highway-mpg          205 non-null int64\n",
      "price                201 non-null object\n",
      "dtypes: float64(5), int64(4), object(6)\n",
      "memory usage: 24.1+ KB\n"
     ]
    }
   ],
   "source": [
    "imports.info()"
   ]
  },
  {
   "cell_type": "code",
   "execution_count": 61,
   "metadata": {
    "collapsed": false
   },
   "outputs": [
    {
     "data": {
      "text/plain": [
       "normalized-losses    37\n",
       "wheel-base            0\n",
       "length                0\n",
       "width                 0\n",
       "height                0\n",
       "curb-weight           0\n",
       "engine-size           0\n",
       "bore                  4\n",
       "stroke                4\n",
       "compression-rate      0\n",
       "horsepower            2\n",
       "peak-rpm              2\n",
       "city-mpg              0\n",
       "highway-mpg           0\n",
       "price                 0\n",
       "dtype: int64"
      ]
     },
     "execution_count": 61,
     "metadata": {},
     "output_type": "execute_result"
    }
   ],
   "source": [
    "#change type\n",
    "imports = imports.astype(float)\n",
    "#remove rows with missing price value\n",
    "imports = imports.dropna(subset=['price'])\n",
    "imports.isnull().sum()"
   ]
  },
  {
   "cell_type": "code",
   "execution_count": 63,
   "metadata": {
    "collapsed": false
   },
   "outputs": [
    {
     "data": {
      "text/plain": [
       "normalized-losses    0\n",
       "wheel-base           0\n",
       "length               0\n",
       "width                0\n",
       "height               0\n",
       "curb-weight          0\n",
       "engine-size          0\n",
       "bore                 0\n",
       "stroke               0\n",
       "compression-rate     0\n",
       "horsepower           0\n",
       "peak-rpm             0\n",
       "city-mpg             0\n",
       "highway-mpg          0\n",
       "price                0\n",
       "dtype: int64"
      ]
     },
     "execution_count": 63,
     "metadata": {},
     "output_type": "execute_result"
    }
   ],
   "source": [
    "#change null value to mode\n",
    "imports = imports.fillna(imports.mean())\n",
    "imports.isnull().sum()"
   ]
  },
  {
   "cell_type": "code",
   "execution_count": 64,
   "metadata": {
    "collapsed": false
   },
   "outputs": [
    {
     "data": {
      "text/html": [
       "<div>\n",
       "<style scoped>\n",
       "    .dataframe tbody tr th:only-of-type {\n",
       "        vertical-align: middle;\n",
       "    }\n",
       "\n",
       "    .dataframe tbody tr th {\n",
       "        vertical-align: top;\n",
       "    }\n",
       "\n",
       "    .dataframe thead th {\n",
       "        text-align: right;\n",
       "    }\n",
       "</style>\n",
       "<table border=\"1\" class=\"dataframe\">\n",
       "  <thead>\n",
       "    <tr style=\"text-align: right;\">\n",
       "      <th></th>\n",
       "      <th>normalized-losses</th>\n",
       "      <th>wheel-base</th>\n",
       "      <th>length</th>\n",
       "      <th>width</th>\n",
       "      <th>height</th>\n",
       "      <th>curb-weight</th>\n",
       "      <th>engine-size</th>\n",
       "      <th>bore</th>\n",
       "      <th>stroke</th>\n",
       "      <th>compression-rate</th>\n",
       "      <th>horsepower</th>\n",
       "      <th>peak-rpm</th>\n",
       "      <th>city-mpg</th>\n",
       "      <th>highway-mpg</th>\n",
       "      <th>price</th>\n",
       "    </tr>\n",
       "  </thead>\n",
       "  <tbody>\n",
       "    <tr>\n",
       "      <th>0</th>\n",
       "      <td>161.000000</td>\n",
       "      <td>88.6</td>\n",
       "      <td>168.8</td>\n",
       "      <td>64.1</td>\n",
       "      <td>48.8</td>\n",
       "      <td>2548.0</td>\n",
       "      <td>130.0</td>\n",
       "      <td>3.47</td>\n",
       "      <td>2.68</td>\n",
       "      <td>9.0</td>\n",
       "      <td>111.0</td>\n",
       "      <td>5000.0</td>\n",
       "      <td>21.0</td>\n",
       "      <td>27.0</td>\n",
       "      <td>13495.0</td>\n",
       "    </tr>\n",
       "    <tr>\n",
       "      <th>1</th>\n",
       "      <td>122.236364</td>\n",
       "      <td>88.6</td>\n",
       "      <td>168.8</td>\n",
       "      <td>64.1</td>\n",
       "      <td>48.8</td>\n",
       "      <td>2548.0</td>\n",
       "      <td>130.0</td>\n",
       "      <td>3.47</td>\n",
       "      <td>2.68</td>\n",
       "      <td>9.0</td>\n",
       "      <td>111.0</td>\n",
       "      <td>5000.0</td>\n",
       "      <td>21.0</td>\n",
       "      <td>27.0</td>\n",
       "      <td>16500.0</td>\n",
       "    </tr>\n",
       "  </tbody>\n",
       "</table>\n",
       "</div>"
      ],
      "text/plain": [
       "   normalized-losses  wheel-base  length  width  height  curb-weight  \\\n",
       "0         161.000000        88.6   168.8   64.1    48.8       2548.0   \n",
       "1         122.236364        88.6   168.8   64.1    48.8       2548.0   \n",
       "\n",
       "   engine-size  bore  stroke  compression-rate  horsepower  peak-rpm  \\\n",
       "0        130.0  3.47    2.68               9.0       111.0    5000.0   \n",
       "1        130.0  3.47    2.68               9.0       111.0    5000.0   \n",
       "\n",
       "   city-mpg  highway-mpg    price  \n",
       "0      21.0         27.0  13495.0  \n",
       "1      21.0         27.0  16500.0  "
      ]
     },
     "execution_count": 64,
     "metadata": {},
     "output_type": "execute_result"
    }
   ],
   "source": [
    "imports.head(2)"
   ]
  },
  {
   "cell_type": "markdown",
   "metadata": {},
   "source": [
    "# Univariate function##"
   ]
  },
  {
   "cell_type": "code",
   "execution_count": 65,
   "metadata": {
    "collapsed": false
   },
   "outputs": [
    {
     "name": "stdout",
     "output_type": "stream",
     "text": [
      "{'stroke': {1: 9043.351317377035, 3: 7247.307977352132, 5: 7954.3010342434445, 7: 7777.566954222874}, 'wheel-base': {1: 4493.734068810494, 3: 5208.39331165465, 5: 5460.851458362242, 7: 5448.1070513823315}, 'height': {1: 8751.160007407449, 3: 8121.165102604576, 5: 8073.1197593196175, 7: 7693.302663098179}, 'curb-weight': {1: 5264.290230758878, 3: 5022.318011757233, 5: 4445.141920375235, 7: 4330.608104418053}, 'compression-rate': {1: 8087.205346523092, 3: 7375.063685578359, 5: 6610.812153159129, 7: 6732.801282941515}, 'bore': {1: 8602.58848450066, 3: 6984.239489480916, 5: 6795.388311535586, 7: 6896.559499627726}, 'highway-mpg': {1: 6025.594966720739, 3: 4671.390389789466, 5: 4643.046277675214, 7: 4792.485755925797}, 'width': {1: 4559.257297950061, 3: 4595.4858709976525, 5: 4772.459149439554, 7: 4715.918441236321}, 'normalized-losses': {1: 8006.716513448735, 3: 6696.878526843706, 5: 7000.9262234463395, 7: 7454.862187959139}, 'engine-size': {1: 3258.4861059962027, 3: 2951.5259704863593, 5: 3271.449938331611, 7: 3563.086774256415}, 'length': {1: 4611.990241761035, 3: 5129.672039752984, 5: 5428.810101415201, 7: 5311.9103449731665}, 'horsepower': {1: 4170.054848037801, 3: 4020.105451002961, 5: 4048.4377247389034, 7: 4205.3935213758805}, 'city-mpg': {1: 5901.143574354764, 3: 4608.180446380397, 5: 4760.44984187731, 7: 5218.847825621605}, 'peak-rpm': {1: 9511.480067750124, 3: 8537.550899973421, 5: 7649.170564081823, 7: 7549.741950042047}}\n"
     ]
    }
   ],
   "source": [
    "from sklearn.neighbors import KNeighborsRegressor\n",
    "from sklearn.metrics import mean_squared_error\n",
    "\n",
    "def knn_train_test(train_col,targ_col,df):\n",
    "    knn = KNeighborsRegressor()\n",
    "    np.random.seed(1)\n",
    "    \n",
    "    #shuffle the dataset\n",
    "    shuffled_index = np.random.permutation(df.index)\n",
    "    random_df = df.reindex(shuffled_index)\n",
    "    \n",
    "    #divide the dataset in half to use one as training set switch to test set\n",
    "    half = int(len(random_df) / 2)\n",
    "    \n",
    "    training_set = random_df.iloc[0:half]\n",
    "    test_set = random_df.iloc[half:]\n",
    "    \n",
    "    k_values = [1,3,5,7]\n",
    "    k_rmses = {}\n",
    "    \n",
    "    #k-nearest-neighbour with each k\n",
    "    for k in k_values:\n",
    "        #fit model\n",
    "        knn = KNeighborsRegressor(n_neighbors=k)\n",
    "        knn.fit(training_set[[train_col]], training_set[targ_col])\n",
    "\n",
    "        #predict\n",
    "        predict_label = knn.predict(test_set[[train_col]])\n",
    "\n",
    "        #RMSE.\n",
    "        mse = mean_squared_error(test_set[targ_col], predict_label)\n",
    "        rmse = np.sqrt(mse)\n",
    "        k_rmses[k] = rmse\n",
    "    \n",
    "    return k_rmses\n",
    "\n",
    "k_rmse_results = {}\n",
    "\n",
    "#use every column to predict\n",
    "train_cols = imports.columns.drop('price')\n",
    "for col in train_cols:\n",
    "    rmse = knn_train_test(col, 'price', imports)\n",
    "    k_rmse_results[col] = rmse\n",
    "\n",
    "print(k_rmse_results)"
   ]
  },
  {
   "cell_type": "code",
   "execution_count": 66,
   "metadata": {
    "collapsed": false
   },
   "outputs": [
    {
     "data": {
      "image/png": "[encoded data removed]",
      "text/plain": [
       "<matplotlib.figure.Figure at 0x7f3534796940>"
      ]
     },
     "metadata": {},
     "output_type": "display_data"
    }
   ],
   "source": [
    "#visualize rmse\n",
    "import matplotlib.pyplot as plt\n",
    "%matplotlib inline\n",
    "\n",
    "for k,v in k_rmse_results.items():\n",
    "    x = list(v.keys())\n",
    "    y = list(v.values())\n",
    "    \n",
    "    plt.plot(x,y)\n",
    "    plt.xlabel('k value')\n",
    "    plt.ylabel('RMSE')"
   ]
  },
  {
   "cell_type": "markdown",
   "metadata": {},
   "source": [
    "it seems k = 3 has lowest rmse"
   ]
  },
  {
   "cell_type": "markdown",
   "metadata": {},
   "source": [
    "# Using multivariate function"
   ]
  },
  {
   "cell_type": "markdown",
   "metadata": {},
   "source": [
    "choose 2,3,4, or 5 best features from univariate function here"
   ]
  },
  {
   "cell_type": "code",
   "execution_count": 71,
   "metadata": {
    "collapsed": false
   },
   "outputs": [
    {
     "name": "stdout",
     "output_type": "stream",
     "text": [
      "peak-rpm             8311.985870\n",
      "height               8159.686883\n",
      "stroke               8005.631821\n",
      "bore                 7319.693946\n",
      "normalized-losses    7289.845863\n",
      "compression-rate     7201.470617\n",
      "wheel-base           5152.771473\n",
      "city-mpg             5122.155422\n",
      "length               5120.595682\n",
      "highway-mpg          5033.129348\n",
      "curb-weight          4765.589567\n",
      "width                4660.780190\n",
      "horsepower           4110.997886\n",
      "engine-size          3261.137197\n",
      "dtype: float64\n"
     ]
    }
   ],
   "source": [
    "feature_avg_rmse = {}\n",
    "\n",
    "for k,v in k_rmse_results.items():\n",
    "    avg_rmse = np.mean(list(v.values()))\n",
    "    feature_avg_rmse[k] = avg_rmse\n",
    "\n",
    "series_avg_rmse = pd.Series(feature_avg_rmse)\n",
    "sorted_series_avg_rmse = series_avg_rmse.sort_values(ascending = False)\n",
    "print(sorted_series_avg_rmse)"
   ]
  },
  {
   "cell_type": "code",
   "execution_count": 80,
   "metadata": {
    "collapsed": false
   },
   "outputs": [
    {
     "name": "stdout",
     "output_type": "stream",
     "text": [
      "['peak-rpm', 'height', 'stroke', 'bore', 'normalized-losses', 'compression-rate', 'wheel-base', 'city-mpg', 'length', 'highway-mpg', 'curb-weight', 'width', 'horsepower', 'engine-size']\n",
      "['peak-rpm', 'height']\n"
     ]
    }
   ],
   "source": [
    "#best features\n",
    "sorted_features = list(sorted_series_avg_rmse.index)\n",
    "print(sorted_features)"
   ]
  },
  {
   "cell_type": "code",
   "execution_count": 82,
   "metadata": {
    "collapsed": false
   },
   "outputs": [
    {
     "data": {
      "text/plain": [
       "{'2 best features': {1: 8426.530091688905,\n",
       "  2: 8070.684573666832,\n",
       "  3: 8171.948043397144,\n",
       "  4: 7882.768805609994,\n",
       "  5: 7311.267262747733,\n",
       "  6: 7035.505406572267,\n",
       "  7: 6987.428120498931,\n",
       "  8: 6957.864257858577,\n",
       "  9: 6964.615341357639,\n",
       "  10: 7007.987863223588,\n",
       "  11: 7019.8312530145795,\n",
       "  12: 7045.744194036551,\n",
       "  13: 7136.274853590373,\n",
       "  14: 7267.052963474549,\n",
       "  15: 7303.12608199728,\n",
       "  16: 7348.174812308584,\n",
       "  17: 7333.238883594461,\n",
       "  18: 7403.538648429787,\n",
       "  19: 7579.919670737432,\n",
       "  20: 7767.1052698317735,\n",
       "  21: 7814.233756319392,\n",
       "  22: 7819.795313363487,\n",
       "  23: 7913.9158490014925,\n",
       "  24: 7893.190020770085},\n",
       " '3 best features': {1: 8265.174183713778,\n",
       "  2: 8061.70699960776,\n",
       "  3: 8122.028828398046,\n",
       "  4: 7804.746144015496,\n",
       "  5: 7296.117592335537,\n",
       "  6: 7001.2261861573925,\n",
       "  7: 6980.515011271763,\n",
       "  8: 6948.644483914143,\n",
       "  9: 6963.325527076816,\n",
       "  10: 6989.989629519637,\n",
       "  11: 7016.8651285356445,\n",
       "  12: 7048.176057619812,\n",
       "  13: 7165.5430066271365,\n",
       "  14: 7269.719992711464,\n",
       "  15: 7298.114624693114,\n",
       "  16: 7352.272951848137,\n",
       "  17: 7338.88499397405,\n",
       "  18: 7399.263502707694,\n",
       "  19: 7570.997022883962,\n",
       "  20: 7752.914059826757,\n",
       "  21: 7795.03524042257,\n",
       "  22: 7793.70443508444,\n",
       "  23: 7895.104707116568,\n",
       "  24: 7893.350231686849},\n",
       " '4 best features': {1: 8192.242027408833,\n",
       "  2: 8061.614496771379,\n",
       "  3: 8129.239701762574,\n",
       "  4: 7827.585280746003,\n",
       "  5: 7266.873074356802,\n",
       "  6: 6979.634647154232,\n",
       "  7: 6931.233578664367,\n",
       "  8: 6951.211559502177,\n",
       "  9: 6969.290458718386,\n",
       "  10: 6997.086014743764,\n",
       "  11: 7015.9733713983815,\n",
       "  12: 7038.2371540068425,\n",
       "  13: 7150.573244502746,\n",
       "  14: 7306.385725097732,\n",
       "  15: 7321.832353316826,\n",
       "  16: 7351.660865846901,\n",
       "  17: 7325.4496025085555,\n",
       "  18: 7357.272835866397,\n",
       "  19: 7567.968509586012,\n",
       "  20: 7744.048720339707,\n",
       "  21: 7798.584719979396,\n",
       "  22: 7789.773306292534,\n",
       "  23: 7891.300500632919,\n",
       "  24: 7887.711609057964},\n",
       " '5 best features': {1: 7738.364047310832,\n",
       "  2: 7490.103051545571,\n",
       "  3: 7475.115059215802,\n",
       "  4: 7463.417215345916,\n",
       "  5: 7166.305547131764,\n",
       "  6: 7082.380733091087,\n",
       "  7: 7242.7403716082035,\n",
       "  8: 7198.400013594966,\n",
       "  9: 7200.702951405315,\n",
       "  10: 7197.421173263832,\n",
       "  11: 7213.293986544755,\n",
       "  12: 7202.321316534234,\n",
       "  13: 7356.983371545248,\n",
       "  14: 7423.38407615758,\n",
       "  15: 7413.392023101491,\n",
       "  16: 7501.170911838725,\n",
       "  17: 7765.506657083004,\n",
       "  18: 7874.082446327455,\n",
       "  19: 7974.143886919762,\n",
       "  20: 8015.743551571149,\n",
       "  21: 8049.001775103976,\n",
       "  22: 8032.091248449479,\n",
       "  23: 7986.060504274985,\n",
       "  24: 8002.943807163551}}"
      ]
     },
     "execution_count": 82,
     "metadata": {},
     "output_type": "execute_result"
    }
   ],
   "source": [
    "def knn_train_test2(training_cols, targ_col, df):\n",
    "    np.random.seed(1)\n",
    "    \n",
    "    #shuffle the dataset\n",
    "    shuffled_index = np.random.permutation(df.index)\n",
    "    random_df = df.reindex(shuffled_index)\n",
    "    \n",
    "    #divide the dataset in half to use one as training set switch to test set\n",
    "    half = int(len(random_df) / 2)\n",
    "    training_set = random_df.iloc[0:half]\n",
    "    test_set = random_df.iloc[half:]\n",
    "    \n",
    "    k_values = [1,3,5,7]\n",
    "    k_rmses = {}\n",
    "    \n",
    "\n",
    "    #k-nearest-neighbour with each k\n",
    "    for k in k_values:\n",
    "        #fit model\n",
    "        knn = KNeighborsRegressor(n_neighbors=k)\n",
    "        knn.fit(training_set[train_cols], training_set[targ_col])\n",
    "\n",
    "        #predict\n",
    "        predict_label = knn.predict(test_set[train_col])\n",
    "        \n",
    "        #RMSE.\n",
    "        mse = mean_squared_error(test_set[targ_col], predict_label)\n",
    "        rmse = np.sqrt(mse)\n",
    "        k_rmses[k] = rmse\n",
    "\n",
    "    return k_rmses\n",
    "\n",
    "k_rmse_results = {}\n",
    "\n",
    "for features in range(2,6):\n",
    "    k_rmse_results['{} best features'.format(features)] = knn_train_test(\n",
    "        sorted_features[features], 'price', imports)\n",
    "\n",
    "k_rmse_results"
   ]
  },
  {
   "cell_type": "code",
   "execution_count": 83,
   "metadata": {
    "collapsed": false,
    "scrolled": true
   },
   "outputs": [
    {
     "data": {
      "text/plain": [
       "<matplotlib.legend.Legend at 0x7f3536aecdd8>"
      ]
     },
     "execution_count": 83,
     "metadata": {},
     "output_type": "execute_result"
    },
    {
     "data": {
      "image/png": "[encoded data removed]",
      "text/plain": [
       "<matplotlib.figure.Figure at 0x7f3536aec438>"
      ]
     },
     "metadata": {},
     "output_type": "display_data"
    }
   ],
   "source": [
    "for k,v in k_rmse_results.items():\n",
    "    x = list(v.keys())\n",
    "    y = list(v.values())  \n",
    "    plt.plot(x,y, label=\"{}\".format(k))\n",
    "    \n",
    "plt.xlabel('k value')\n",
    "plt.ylabel('RMSE')\n",
    "plt.legend()"
   ]
  },
  {
   "cell_type": "code",
   "execution_count": null,
   "metadata": {
    "collapsed": true
   },
   "outputs": [],
   "source": []
  }
 ],
 "metadata": {
  "kernelspec": {
   "display_name": "Python 3",
   "language": "python",
   "name": "python3"
  },
  "language_info": {
   "codemirror_mode": {
    "name": "ipython",
    "version": 3
   },
   "file_extension": ".py",
   "mimetype": "text/x-python",
   "name": "python",
   "nbconvert_exporter": "python",
   "pygments_lexer": "ipython3",
   "version": "3.4.3"
  }
 },
 "nbformat": 4,
 "nbformat_minor": 2
}
