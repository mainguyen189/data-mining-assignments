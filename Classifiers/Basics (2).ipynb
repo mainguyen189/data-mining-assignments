{
 "cells": [
  {
   "cell_type": "code",
   "execution_count": 1,
   "metadata": {},
   "outputs": [],
   "source": [
    "import seaborn as sns\n",
    "import pandas as pd\n",
    "import numpy as np\n",
    "from sklearn.model_selection import train_test_split\n",
    "import matplotlib.pyplot as plt\n",
    "from sklearn.ensemble import RandomForestClassifier\n",
    "from sklearn import tree"
   ]
  },
  {
   "cell_type": "code",
   "execution_count": 2,
   "metadata": {},
   "outputs": [
    {
     "name": "stdout",
     "output_type": "stream",
     "text": [
      "4    52\n",
      "5    39\n",
      "3    35\n",
      "1    31\n",
      "6    20\n",
      "2    17\n",
      "Name: landmass, dtype: int64\n"
     ]
    }
   ],
   "source": [
    "cols = ['name','landmass','zone', 'area', 'population', 'language','religion','bars','stripes','colours',\n",
    "'red','green','blue','gold','white','black','orange','mainhue','circles',\n",
    "'crosses','saltires','quarters','sunstars','crescent','triangle','icon','animate','text','topleft','botright']\n",
    "df= pd.read_csv(\"https://archive.ics.uci.edu/ml/machine-learning-databases/flags/flag.data\", names = cols)\n",
    "\n",
    "#variable names to use as predictors\n",
    "var = [ 'red', 'green', 'blue','gold', 'white', 'black', 'orange', 'mainhue','bars','stripes', 'circles','crosses', 'saltires','quarters','sunstars','triangle','animate']\n",
    "\n",
    "#Print number of countries by landmass, or continent\n",
    "print(df.landmass.value_counts())"
   ]
  },
  {
   "cell_type": "code",
   "execution_count": 3,
   "metadata": {},
   "outputs": [
    {
     "name": "stdout",
     "output_type": "stream",
     "text": [
      "landmass         3     6\n",
      "red       0.828571  0.80\n",
      "green     0.200000  0.20\n",
      "blue      0.514286  0.80\n",
      "gold      0.428571  0.60\n",
      "white     0.771429  0.95\n",
      "black     0.171429  0.15\n",
      "orange    0.057143  0.15\n",
      "bars      0.628571  0.00\n",
      "stripes   1.285714  0.40\n",
      "circles   0.028571  0.15\n",
      "crosses   0.285714  0.40\n",
      "saltires  0.028571  0.30\n",
      "quarters  0.028571  0.40\n",
      "sunstars  0.142857  3.30\n",
      "triangle  0.028571  0.25\n",
      "animate   0.114286  0.30\n"
     ]
    }
   ],
   "source": [
    "#Create a new dataframe with only flags from Europe(3) and Oceania(6)\n",
    "df_36 = df[df[\"landmass\"].isin([3,6])]\n",
    "\n",
    "#Print the average vales of the predictors for Europe and Oceania\n",
    "print(df_36.groupby('landmass')[var].mean().T)"
   ]
  },
  {
   "cell_type": "code",
   "execution_count": 4,
   "metadata": {},
   "outputs": [
    {
     "name": "stdout",
     "output_type": "stream",
     "text": [
      "red          int64\n",
      "green        int64\n",
      "blue         int64\n",
      "gold         int64\n",
      "white        int64\n",
      "black        int64\n",
      "orange       int64\n",
      "mainhue     object\n",
      "bars         int64\n",
      "stripes      int64\n",
      "circles      int64\n",
      "crosses      int64\n",
      "saltires     int64\n",
      "quarters     int64\n",
      "sunstars     int64\n",
      "triangle     int64\n",
      "animate      int64\n",
      "dtype: object\n"
     ]
    }
   ],
   "source": [
    "#Create labels for only Europe and Oceania\n",
    "labels = df_36[\"landmass\"]\n",
    "\n",
    "#Print the variable types for the predictors\n",
    "print(df[var].dtypes)\n"
   ]
  },
  {
   "cell_type": "code",
   "execution_count": 6,
   "metadata": {},
   "outputs": [
    {
     "data": {
      "text/plain": [
       "RandomForestClassifier(n_estimators=2000, random_state=0)"
      ]
     },
     "execution_count": 6,
     "metadata": {},
     "output_type": "execute_result"
    }
   ],
   "source": [
    "#Create dummy variables for categorical predictors\n",
    "data = pd.get_dummies(df_36[var])\n",
    "\n",
    "#Split data into a train and test set\n",
    "train_data, test_data, train_labels, test_labels = train_test_split(data, labels, random_state=1, test_size=.4)\n",
    "\n",
    "#build random forest\n",
    "forest = RandomForestClassifier(n_estimators = 2000, random_state=0)\n",
    "forest.fit(train_data, train_labels)\n",
    "\n"
   ]
  },
  {
   "cell_type": "code",
   "execution_count": 9,
   "metadata": {},
   "outputs": [
    {
     "name": "stdout",
     "output_type": "stream",
     "text": [
      "[0.02048977 0.01535257 0.03908861 0.0481021  0.02800773 0.02536227\n",
      " 0.0772435  0.01079932 0.0798023  0.06420827 0.03187665 0.02732119\n",
      " 0.05562956 0.14847954 0.05443655 0.04303972 0.01284696 0.14849865\n",
      " 0.00589852 0.         0.02938176 0.03413447]\n"
     ]
    }
   ],
   "source": [
    "print(forest.feature_importances_)"
   ]
  },
  {
   "cell_type": "code",
   "execution_count": 7,
   "metadata": {},
   "outputs": [
    {
     "name": "stdout",
     "output_type": "stream",
     "text": [
      "0.7272727272727273\n"
     ]
    }
   ],
   "source": [
    "print(forest.score(test_data,test_labels))"
   ]
  },
  {
   "cell_type": "code",
   "execution_count": null,
   "metadata": {},
   "outputs": [],
   "source": []
  }
 ],
 "metadata": {
  "kernelspec": {
   "display_name": "Python 3",
   "language": "python",
   "name": "python3"
  },
  "language_info": {
   "codemirror_mode": {
    "name": "ipython",
    "version": 3
   },
   "file_extension": ".py",
   "mimetype": "text/x-python",
   "name": "python",
   "nbconvert_exporter": "python",
   "pygments_lexer": "ipython3",
   "version": "3.8.2"
  }
 },
 "nbformat": 4,
 "nbformat_minor": 4
}
