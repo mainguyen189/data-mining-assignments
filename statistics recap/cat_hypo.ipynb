{
 "cells": [
  {
   "cell_type": "code",
   "execution_count": 1,
   "id": "4cf6f2cd",
   "metadata": {},
   "outputs": [
    {
     "data": {
      "text/html": [
       "<div>\n",
       "<style scoped>\n",
       "    .dataframe tbody tr th:only-of-type {\n",
       "        vertical-align: middle;\n",
       "    }\n",
       "\n",
       "    .dataframe tbody tr th {\n",
       "        vertical-align: top;\n",
       "    }\n",
       "\n",
       "    .dataframe thead th {\n",
       "        text-align: right;\n",
       "    }\n",
       "</style>\n",
       "<table border=\"1\" class=\"dataframe\">\n",
       "  <thead>\n",
       "    <tr style=\"text-align: right;\">\n",
       "      <th></th>\n",
       "      <th>is_rescue</th>\n",
       "      <th>weight</th>\n",
       "      <th>tail_length</th>\n",
       "      <th>age</th>\n",
       "      <th>color</th>\n",
       "      <th>likes_children</th>\n",
       "      <th>is_hypoallergenic</th>\n",
       "      <th>name</th>\n",
       "      <th>breed</th>\n",
       "    </tr>\n",
       "  </thead>\n",
       "  <tbody>\n",
       "    <tr>\n",
       "      <th>0</th>\n",
       "      <td>0</td>\n",
       "      <td>6</td>\n",
       "      <td>2.25</td>\n",
       "      <td>2</td>\n",
       "      <td>black</td>\n",
       "      <td>1</td>\n",
       "      <td>0</td>\n",
       "      <td>Huey</td>\n",
       "      <td>chihuahua</td>\n",
       "    </tr>\n",
       "    <tr>\n",
       "      <th>1</th>\n",
       "      <td>0</td>\n",
       "      <td>4</td>\n",
       "      <td>5.36</td>\n",
       "      <td>4</td>\n",
       "      <td>black</td>\n",
       "      <td>0</td>\n",
       "      <td>0</td>\n",
       "      <td>Cherish</td>\n",
       "      <td>chihuahua</td>\n",
       "    </tr>\n",
       "    <tr>\n",
       "      <th>2</th>\n",
       "      <td>0</td>\n",
       "      <td>7</td>\n",
       "      <td>3.63</td>\n",
       "      <td>3</td>\n",
       "      <td>black</td>\n",
       "      <td>0</td>\n",
       "      <td>1</td>\n",
       "      <td>Becka</td>\n",
       "      <td>chihuahua</td>\n",
       "    </tr>\n",
       "    <tr>\n",
       "      <th>3</th>\n",
       "      <td>0</td>\n",
       "      <td>5</td>\n",
       "      <td>0.19</td>\n",
       "      <td>2</td>\n",
       "      <td>black</td>\n",
       "      <td>0</td>\n",
       "      <td>0</td>\n",
       "      <td>Addie</td>\n",
       "      <td>chihuahua</td>\n",
       "    </tr>\n",
       "    <tr>\n",
       "      <th>4</th>\n",
       "      <td>0</td>\n",
       "      <td>5</td>\n",
       "      <td>0.37</td>\n",
       "      <td>1</td>\n",
       "      <td>black</td>\n",
       "      <td>1</td>\n",
       "      <td>1</td>\n",
       "      <td>Beverlee</td>\n",
       "      <td>chihuahua</td>\n",
       "    </tr>\n",
       "  </tbody>\n",
       "</table>\n",
       "</div>"
      ],
      "text/plain": [
       "   is_rescue  weight  tail_length  age  color  likes_children  \\\n",
       "0          0       6         2.25    2  black               1   \n",
       "1          0       4         5.36    4  black               0   \n",
       "2          0       7         3.63    3  black               0   \n",
       "3          0       5         0.19    2  black               0   \n",
       "4          0       5         0.37    1  black               1   \n",
       "\n",
       "   is_hypoallergenic      name      breed  \n",
       "0                  0      Huey  chihuahua  \n",
       "1                  0   Cherish  chihuahua  \n",
       "2                  1     Becka  chihuahua  \n",
       "3                  0     Addie  chihuahua  \n",
       "4                  1  Beverlee  chihuahua  "
      ]
     },
     "execution_count": 1,
     "metadata": {},
     "output_type": "execute_result"
    }
   ],
   "source": [
    "import numpy as np\n",
    "import pandas as pd\n",
    "\n",
    "# Import data\n",
    "dogs = pd.read_csv('dog_data.csv')\n",
    "\n",
    "dogs.head()"
   ]
  },
  {
   "cell_type": "code",
   "execution_count": 2,
   "id": "135b4742",
   "metadata": {},
   "outputs": [
    {
     "data": {
      "text/plain": [
       "6"
      ]
     },
     "execution_count": 2,
     "metadata": {},
     "output_type": "execute_result"
    }
   ],
   "source": [
    "# calculate the number of whippet rescue\n",
    "\n",
    "whippet_rescue = dogs.is_rescue[dogs.breed == 'whippet']\n",
    "\n",
    "num_whippet_rescues = np.sum(whippet_rescue == 1)\n",
    "num_whippet_rescues"
   ]
  },
  {
   "cell_type": "code",
   "execution_count": 3,
   "id": "468d76c5",
   "metadata": {},
   "outputs": [
    {
     "data": {
      "text/plain": [
       "100"
      ]
     },
     "execution_count": 3,
     "metadata": {},
     "output_type": "execute_result"
    }
   ],
   "source": [
    "# Calculate the number of whippets\n",
    "num_whippets = len(whippet_rescue)\n",
    "num_whippets"
   ]
  },
  {
   "cell_type": "markdown",
   "id": "6bb0e65e",
   "metadata": {},
   "source": [
    "Null: 8% of whippets are rescues\n",
    "\n",
    "Alternative: more or less than 8% of whippets are rescues"
   ]
  },
  {
   "cell_type": "code",
   "execution_count": 4,
   "id": "34ecadaa",
   "metadata": {},
   "outputs": [
    {
     "data": {
      "text/plain": [
       "False"
      ]
     },
     "execution_count": 4,
     "metadata": {},
     "output_type": "execute_result"
    }
   ],
   "source": [
    "# Run a binomial test \n",
    "from scipy.stats import binom_test\n",
    "pval = binom_test(num_whippet_rescues, num_whippets, .08)\n",
    "pval < 0.05"
   ]
  },
  {
   "cell_type": "markdown",
   "id": "95f38ce1",
   "metadata": {},
   "source": [
    "Null: whippets, terriers, and pitbulls all weigh the same amount on average\n",
    "    \n",
    "Alternative: whippets, terriers, and pitbulls do not all weigh the same amount on average (at least one pair of breeds has differing average weights)"
   ]
  },
  {
   "cell_type": "code",
   "execution_count": 5,
   "id": "f67703a4",
   "metadata": {},
   "outputs": [
    {
     "data": {
      "text/plain": [
       "True"
      ]
     },
     "execution_count": 5,
     "metadata": {},
     "output_type": "execute_result"
    }
   ],
   "source": [
    "# Save the weights of whippets, terriers, and pitbulls\n",
    "wt_whippets = dogs.weight[dogs.breed == 'whippet']\n",
    "wt_terriers = dogs.weight[dogs.breed == 'terrier']\n",
    "wt_pitbulls = dogs.weight[dogs.breed == 'pitbull']\n",
    "\n",
    "# Run an ANOVA \n",
    "from scipy.stats import f_oneway\n",
    "Fstat, pval = f_oneway(wt_whippets, wt_terriers, wt_pitbulls)\n",
    "pval < 0.05"
   ]
  },
  {
   "cell_type": "markdown",
   "id": "76213eb3",
   "metadata": {},
   "source": [
    "hypothesis test to determine which of those breeds (whippets, terriers, and pitbulls) weigh different amounts on average."
   ]
  },
  {
   "cell_type": "code",
   "execution_count": 7,
   "id": "2422e9c1",
   "metadata": {},
   "outputs": [
    {
     "name": "stdout",
     "output_type": "stream",
     "text": [
      "  Multiple Comparison of Means - Tukey HSD, FWER=0.05  \n",
      "=======================================================\n",
      " group1  group2 meandiff p-adj   lower    upper  reject\n",
      "-------------------------------------------------------\n",
      "pitbull terrier   -13.24    0.0 -16.7278 -9.7522   True\n",
      "pitbull whippet    -3.34 0.0638  -6.8278  0.1478  False\n",
      "terrier whippet      9.9    0.0   6.4122 13.3878   True\n",
      "-------------------------------------------------------\n"
     ]
    }
   ],
   "source": [
    "# Subset to just whippets, terriers, and pitbulls\n",
    "dogs_wtp = dogs[dogs.breed.isin(['whippet', 'terrier', 'pitbull'])]\n",
    "\n",
    "# Run Tukey's Range Test\n",
    "from statsmodels.stats.multicomp import pairwise_tukeyhsd\n",
    "output = pairwise_tukeyhsd(dogs_wtp.weight, dogs_wtp.breed)\n",
    "print(output)"
   ]
  },
  {
   "cell_type": "code",
   "execution_count": 8,
   "id": "2634ebd6",
   "metadata": {},
   "outputs": [
    {
     "name": "stdout",
     "output_type": "stream",
     "text": [
      "breed  poodle  shihtzu\n",
      "color                 \n",
      "black      17       10\n",
      "brown      13       36\n",
      "gold        8        6\n",
      "grey       52       41\n",
      "white      10        7\n"
     ]
    }
   ],
   "source": [
    "# Subset to just poodles and shihtzus\n",
    "dogs_ps = dogs[dogs.breed.isin(['poodle', 'shihtzu'])]\n",
    "\n",
    "# Create a contingency table of color vs. breed\n",
    "Xtab = pd.crosstab(dogs_ps.color, dogs_ps.breed)\n",
    "print(Xtab)"
   ]
  },
  {
   "cell_type": "markdown",
   "id": "28b47bbd",
   "metadata": {},
   "source": [
    "Null: There is an association between breed (poodle vs. shihtzu) and color.\n",
    "    \n",
    "Alternative: There is not an association between breed (poodle vs. shihtzu) and color."
   ]
  },
  {
   "cell_type": "code",
   "execution_count": 9,
   "id": "63a76024",
   "metadata": {},
   "outputs": [
    {
     "data": {
      "text/plain": [
       "True"
      ]
     },
     "execution_count": 9,
     "metadata": {},
     "output_type": "execute_result"
    }
   ],
   "source": [
    "# Run a Chi-Square Test\n",
    "from scipy.stats import chi2_contingency\n",
    "chi2, pval, dof, exp = chi2_contingency(Xtab)\n",
    "pval < 0.05"
   ]
  },
  {
   "cell_type": "code",
   "execution_count": null,
   "id": "6637539a",
   "metadata": {},
   "outputs": [],
   "source": []
  }
 ],
 "metadata": {
  "kernelspec": {
   "display_name": "Python 3 (ipykernel)",
   "language": "python",
   "name": "python3"
  },
  "language_info": {
   "codemirror_mode": {
    "name": "ipython",
    "version": 3
   },
   "file_extension": ".py",
   "mimetype": "text/x-python",
   "name": "python",
   "nbconvert_exporter": "python",
   "pygments_lexer": "ipython3",
   "version": "3.8.10"
  }
 },
 "nbformat": 4,
 "nbformat_minor": 5
}
