{
 "cells": [
  {
   "cell_type": "code",
   "execution_count": 1,
   "id": "0558c9f6",
   "metadata": {},
   "outputs": [],
   "source": [
    "import numpy as np\n",
    "import requests\n",
    "import io\n",
    "from tensorflow.keras.preprocessing.image import ImageDataGenerator\n",
    "import tensorflow as tf"
   ]
  },
  {
   "cell_type": "code",
   "execution_count": 2,
   "id": "dd1e46a0",
   "metadata": {},
   "outputs": [],
   "source": [
    "def make_request(filename):\n",
    "    response = requests.get('https://generalzach.s3-us-west-2.amazonaws.com/'+filename)\n",
    "    response.raise_for_status()\n",
    "    data = np.load(io.BytesIO(response.content)) \n",
    "    return data\n",
    "\n",
    "def load_training_data():\n",
    "    print(\"Making request...\")\n",
    "    training_data = make_request('training_data_256_balanced_sample_new_500.npz')\n",
    "    print(\"Success!\")\n",
    "    return training_data['a'],training_data['b']\n",
    "\n",
    "def load_validation_data():\n",
    "    print(\"Making request...\")\n",
    "    validation_data = make_request('validation_data_256_balanced_sample_new_test.npz')\n",
    "    print(\"Success!\")\n",
    "    return validation_data['a'],validation_data['b']\n"
   ]
  },
  {
   "cell_type": "code",
   "execution_count": 3,
   "id": "dd8259e5",
   "metadata": {},
   "outputs": [
    {
     "name": "stdout",
     "output_type": "stream",
     "text": [
      "Making request...\n",
      "Success!\n",
      "Making request...\n",
      "Success!\n",
      "\n",
      "Loading training data...\n"
     ]
    }
   ],
   "source": [
    "training_data,training_labels = load_training_data()\n",
    "validation_data,validation_labels = load_validation_data()\n",
    "\n",
    "print(\"\\nLoading training data...\")"
   ]
  },
  {
   "cell_type": "code",
   "execution_count": 4,
   "id": "9514166d",
   "metadata": {},
   "outputs": [],
   "source": [
    "training_data_generator = ImageDataGenerator(\n",
    "        rescale=1./255,\n",
    "        zoom_range=0.2,\n",
    "        rotation_range=15,\n",
    "        width_shift_range=0.05,\n",
    "        height_shift_range=0.05)\n",
    "#small batch lol it crashed\n",
    "BATCH_SIZE=5"
   ]
  },
  {
   "cell_type": "code",
   "execution_count": 5,
   "id": "def882a4",
   "metadata": {},
   "outputs": [
    {
     "name": "stdout",
     "output_type": "stream",
     "text": [
      "\n",
      "Loading validation data...\n"
     ]
    }
   ],
   "source": [
    "training_iterator = training_data_generator.flow(training_data,training_labels,batch_size=BATCH_SIZE)\n",
    "\n",
    "print(\"\\nLoading validation data...\")\n",
    "\n",
    "#Create validation_data_generator, an ImageDataGenerator that just performs pixel normalization:\n",
    "\n",
    "validation_data_generator = ImageDataGenerator(rescale=1./255)\n",
    "\n",
    "#Use validation_data_generator.flow_from_directory(...) to load the validation data from the 'validation_data' folder:\n",
    "\n",
    "validation_iterator = validation_data_generator.flow(validation_data,validation_labels,batch_size=BATCH_SIZE)\n"
   ]
  },
  {
   "cell_type": "code",
   "execution_count": 6,
   "id": "e25c2456",
   "metadata": {},
   "outputs": [
    {
     "name": "stdout",
     "output_type": "stream",
     "text": [
      "\n",
      "Building model...\n",
      "Model: \"sequential\"\n",
      "_________________________________________________________________\n",
      " Layer (type)                Output Shape              Param #   \n",
      "=================================================================\n",
      " conv2d (Conv2D)             (None, 84, 84, 2)         52        \n",
      "                                                                 \n",
      " max_pooling2d (MaxPooling2D  (None, 16, 16, 2)        0         \n",
      " )                                                               \n",
      "                                                                 \n",
      " conv2d_1 (Conv2D)           (None, 14, 14, 4)         76        \n",
      "                                                                 \n",
      " max_pooling2d_1 (MaxPooling  (None, 7, 7, 4)          0         \n",
      " 2D)                                                             \n",
      "                                                                 \n",
      " flatten (Flatten)           (None, 196)               0         \n",
      "                                                                 \n",
      " dense (Dense)               (None, 2)                 394       \n",
      "                                                                 \n",
      "=================================================================\n",
      "Total params: 522\n",
      "Trainable params: 522\n",
      "Non-trainable params: 0\n",
      "_________________________________________________________________\n"
     ]
    }
   ],
   "source": [
    "#Rebuilds our model from the previous exercise, with convolutional and max pooling layers:\n",
    "print(\"\\nBuilding model...\")\n",
    "model = tf.keras.Sequential()\n",
    "model.add(tf.keras.Input(shape=(256, 256, 1)))\n",
    "model.add(tf.keras.layers.Conv2D(2, 5, strides=3, activation=\"relu\")) \n",
    "model.add(tf.keras.layers.MaxPooling2D(\n",
    "    pool_size=(5, 5), strides=(5,5)))\n",
    "model.add(tf.keras.layers.Conv2D(4, 3, strides=1, activation=\"relu\")) \n",
    "model.add(tf.keras.layers.MaxPooling2D(\n",
    "    pool_size=(2,2), strides=(2,2)))\n",
    "model.add(tf.keras.layers.Flatten())\n",
    "\n",
    "model.add(tf.keras.layers.Dense(2,activation=\"softmax\"))\n",
    "\n",
    "model.summary()\n"
   ]
  },
  {
   "cell_type": "code",
   "execution_count": 7,
   "id": "aed843ee",
   "metadata": {},
   "outputs": [
    {
     "name": "stdout",
     "output_type": "stream",
     "text": [
      "\n",
      "Compiling model...\n"
     ]
    }
   ],
   "source": [
    "#Compile the model with an Adam optimizer, Categorical Cross Entropy Loss, and Accuracy and AUC metrics:\n",
    "\n",
    "print(\"\\nCompiling model...\")\n",
    "\n",
    "model.compile(\n",
    "    optimizer=tf.keras.optimizers.Adam(learning_rate=5e-3),\n",
    "    loss=tf.keras.losses.CategoricalCrossentropy(),\n",
    "    metrics=[tf.keras.metrics.CategoricalAccuracy(),tf.keras.metrics.AUC()],\n",
    ")"
   ]
  },
  {
   "cell_type": "code",
   "execution_count": 8,
   "id": "849b7096",
   "metadata": {},
   "outputs": [
    {
     "name": "stdout",
     "output_type": "stream",
     "text": [
      "\n",
      "Training model...\n",
      "Epoch 1/4\n",
      "200/200 [==============================] - 5s 24ms/step - loss: 0.6424 - categorical_accuracy: 0.6480 - auc: 0.7020 - val_loss: 0.5224 - val_categorical_accuracy: 0.7825 - val_auc: 0.8556\n",
      "Epoch 2/4\n",
      "200/200 [==============================] - 5s 23ms/step - loss: 0.4884 - categorical_accuracy: 0.7930 - auc: 0.8571 - val_loss: 0.4136 - val_categorical_accuracy: 0.8150 - val_auc: 0.8942\n",
      "Epoch 3/4\n",
      "200/200 [==============================] - 5s 24ms/step - loss: 0.4301 - categorical_accuracy: 0.8160 - auc: 0.8897 - val_loss: 0.3790 - val_categorical_accuracy: 0.8325 - val_auc: 0.9104\n",
      "Epoch 4/4\n",
      "200/200 [==============================] - 5s 22ms/step - loss: 0.3291 - categorical_accuracy: 0.8630 - auc: 0.9348 - val_loss: 0.3726 - val_categorical_accuracy: 0.8450 - val_auc: 0.9138\n"
     ]
    },
    {
     "data": {
      "text/plain": [
       "<keras.callbacks.History at 0x7f0425806a90>"
      ]
     },
     "execution_count": 8,
     "metadata": {},
     "output_type": "execute_result"
    }
   ],
   "source": [
    "#Use model.fit(...) to train and validate our model for 2 epochs:\n",
    "\n",
    "print(\"\\nTraining model...\")\n",
    "\n",
    "model.fit(\n",
    "        training_iterator,\n",
    "        steps_per_epoch=len(training_data)/BATCH_SIZE, #training_iterator.samples/BATCH_SIZE,\n",
    "        epochs=4,\n",
    "       validation_data=validation_iterator,\n",
    "        validation_steps=len(validation_data)/BATCH_SIZE) \n"
   ]
  },
  {
   "cell_type": "code",
   "execution_count": 9,
   "id": "95a4e92e",
   "metadata": {},
   "outputs": [],
   "source": [
    "#it crashed before I can evaluate :("
   ]
  }
 ],
 "metadata": {
  "kernelspec": {
   "display_name": "Python 3 (ipykernel)",
   "language": "python",
   "name": "python3"
  },
  "language_info": {
   "codemirror_mode": {
    "name": "ipython",
    "version": 3
   },
   "file_extension": ".py",
   "mimetype": "text/x-python",
   "name": "python",
   "nbconvert_exporter": "python",
   "pygments_lexer": "ipython3",
   "version": "3.8.10"
  }
 },
 "nbformat": 4,
 "nbformat_minor": 5
}
