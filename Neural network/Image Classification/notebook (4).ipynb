{
 "cells": [
  {
   "cell_type": "code",
   "execution_count": 2,
   "id": "12cc1f8c",
   "metadata": {},
   "outputs": [],
   "source": [
    "import requests\n",
    "import io\n",
    "import numpy as np\n",
    "import os\n",
    "\n",
    "#Loads data from url\n",
    "def make_request(url):\n",
    "    print(\"Requesting data from {}...\".format(url))\n",
    "    response = requests.get('https://content.codecademy.com/courses/deeplearning-with-tensorflow/'+url)\n",
    "    response.raise_for_status()\n",
    "    response_data = io.BytesIO(response.content)\n",
    "    return response_data\n",
    "    \n",
    "#Loads galaxy data\n",
    "def load_galaxy_data():\n",
    "  \n",
    "  #If cached file not found, loads data from url\n",
    "    if not os.path.isfile('./cached_data.npz'):\n",
    "        response_data = make_request(url='galaxydata.npz')\n",
    "\n",
    "    with open(\"cached_data.npz\",\"wb\") as save_file:\n",
    "        save_file.write(response_data.read())\n",
    " \n",
    "  #Load data using NumPy\n",
    "    data = np.load('cached_data.npz')\n",
    "\n",
    "    print(\"Successfully loaded galaxy data!\")\n",
    "  \n",
    "    return data[\"data\"],data[\"labels\"]"
   ]
  },
  {
   "cell_type": "code",
   "execution_count": 3,
   "id": "a7a18fd0",
   "metadata": {},
   "outputs": [],
   "source": [
    "import tensorflow as tf\n",
    "from tensorflow.keras.preprocessing.image import ImageDataGenerator\n",
    "\n",
    "from sklearn.model_selection import train_test_split"
   ]
  },
  {
   "cell_type": "code",
   "execution_count": 4,
   "id": "f394a3a2",
   "metadata": {},
   "outputs": [
    {
     "name": "stdout",
     "output_type": "stream",
     "text": [
      "Requesting data from galaxydata.npz...\n",
      "Successfully loaded galaxy data!\n"
     ]
    }
   ],
   "source": [
    "input_data, labels = load_galaxy_data()"
   ]
  },
  {
   "cell_type": "code",
   "execution_count": 5,
   "id": "76300d64",
   "metadata": {},
   "outputs": [],
   "source": [
    "#preprocess input\n",
    "data_generator = ImageDataGenerator(rescale=1./255)"
   ]
  },
  {
   "cell_type": "code",
   "execution_count": 6,
   "id": "8ab4b76c",
   "metadata": {},
   "outputs": [
    {
     "data": {
      "text/plain": [
       "(1400, 128, 128, 3)"
      ]
     },
     "execution_count": 6,
     "metadata": {},
     "output_type": "execute_result"
    }
   ],
   "source": [
    "input_data.shape"
   ]
  },
  {
   "cell_type": "code",
   "execution_count": 7,
   "id": "08ca2423",
   "metadata": {},
   "outputs": [
    {
     "data": {
      "text/plain": [
       "(1400, 4)"
      ]
     },
     "execution_count": 7,
     "metadata": {},
     "output_type": "execute_result"
    }
   ],
   "source": [
    "labels.shape"
   ]
  },
  {
   "cell_type": "code",
   "execution_count": 8,
   "id": "0410999d",
   "metadata": {},
   "outputs": [],
   "source": [
    "x_train, x_valid, y_train, y_valid = train_test_split(input_data, \n",
    "                                                      labels, test_size=0.20, \n",
    "                                                      stratify=labels, \n",
    "                                                      shuffle=True, random_state=222)\n"
   ]
  },
  {
   "cell_type": "code",
   "execution_count": 9,
   "id": "8592a28f",
   "metadata": {},
   "outputs": [],
   "source": [
    "training_iterator = data_generator.flow(x_train, y_train,batch_size=5)\n",
    "validation_iterator = data_generator.flow(x_valid, y_valid, batch_size=5)\n"
   ]
  },
  {
   "cell_type": "code",
   "execution_count": 15,
   "id": "2e3e1c1a",
   "metadata": {},
   "outputs": [],
   "source": [
    "#build model\n",
    "model = tf.keras.Sequential()\n",
    "model.add(tf.keras.Input(shape=(128, 128, 3)))\n",
    "model.add(tf.keras.layers.Conv2D(8, 3, strides=2, activation=\"relu\")) \n",
    "model.add(tf.keras.layers.MaxPooling2D(\n",
    "    pool_size=(2, 2), strides=(2,2)))\n",
    "model.add(tf.keras.layers.Conv2D(8, 3, strides=2, activation=\"relu\")) \n",
    "model.add(tf.keras.layers.MaxPooling2D(\n",
    "    pool_size=(2,2), strides=(2,2)))\n",
    "model.add(tf.keras.layers.Flatten())\n",
    "model.add(tf.keras.layers.Dense(16, activation=\"relu\"))\n",
    "model.add(tf.keras.layers.Dense(4, activation=\"softmax\"))"
   ]
  },
  {
   "cell_type": "code",
   "execution_count": 16,
   "id": "1f394f76",
   "metadata": {},
   "outputs": [],
   "source": [
    "#compile\n",
    "model.compile(\n",
    "    optimizer=tf.keras.optimizers.Adam(learning_rate=0.001),\n",
    "    loss=tf.keras.losses.CategoricalCrossentropy(),\n",
    "    metrics=[tf.keras.metrics.CategoricalAccuracy(),tf.keras.metrics.AUC()])"
   ]
  },
  {
   "cell_type": "code",
   "execution_count": 17,
   "id": "a422397c",
   "metadata": {},
   "outputs": [
    {
     "name": "stdout",
     "output_type": "stream",
     "text": [
      "Model: \"sequential_2\"\n",
      "_________________________________________________________________\n",
      " Layer (type)                Output Shape              Param #   \n",
      "=================================================================\n",
      " conv2d_2 (Conv2D)           (None, 63, 63, 8)         224       \n",
      "                                                                 \n",
      " max_pooling2d_2 (MaxPooling  (None, 31, 31, 8)        0         \n",
      " 2D)                                                             \n",
      "                                                                 \n",
      " conv2d_3 (Conv2D)           (None, 15, 15, 8)         584       \n",
      "                                                                 \n",
      " max_pooling2d_3 (MaxPooling  (None, 7, 7, 8)          0         \n",
      " 2D)                                                             \n",
      "                                                                 \n",
      " flatten_1 (Flatten)         (None, 392)               0         \n",
      "                                                                 \n",
      " dense_3 (Dense)             (None, 16)                6288      \n",
      "                                                                 \n",
      " dense_4 (Dense)             (None, 4)                 68        \n",
      "                                                                 \n",
      "=================================================================\n",
      "Total params: 7,164\n",
      "Trainable params: 7,164\n",
      "Non-trainable params: 0\n",
      "_________________________________________________________________\n"
     ]
    }
   ],
   "source": [
    "model.summary()"
   ]
  },
  {
   "cell_type": "code",
   "execution_count": 18,
   "id": "0104249b",
   "metadata": {},
   "outputs": [
    {
     "name": "stdout",
     "output_type": "stream",
     "text": [
      "Epoch 1/8\n",
      "224/224 [==============================] - 2s 6ms/step - loss: 1.3133 - categorical_accuracy: 0.3482 - auc_1: 0.6404 - val_loss: 1.1263 - val_categorical_accuracy: 0.5036 - val_auc_1: 0.7791\n",
      "Epoch 2/8\n",
      "224/224 [==============================] - 1s 5ms/step - loss: 1.1586 - categorical_accuracy: 0.5089 - auc_1: 0.7533 - val_loss: 1.2185 - val_categorical_accuracy: 0.4571 - val_auc_1: 0.7206\n",
      "Epoch 3/8\n",
      "224/224 [==============================] - 1s 5ms/step - loss: 1.1027 - categorical_accuracy: 0.5527 - auc_1: 0.7808 - val_loss: 1.0189 - val_categorical_accuracy: 0.6000 - val_auc_1: 0.8242\n",
      "Epoch 4/8\n",
      "224/224 [==============================] - 1s 5ms/step - loss: 1.0229 - categorical_accuracy: 0.5804 - auc_1: 0.8155 - val_loss: 0.9154 - val_categorical_accuracy: 0.6464 - val_auc_1: 0.8633\n",
      "Epoch 5/8\n",
      "224/224 [==============================] - 1s 5ms/step - loss: 0.9547 - categorical_accuracy: 0.6214 - auc_1: 0.8409 - val_loss: 0.8571 - val_categorical_accuracy: 0.6929 - val_auc_1: 0.8804\n",
      "Epoch 6/8\n",
      "224/224 [==============================] - 1s 5ms/step - loss: 0.9133 - categorical_accuracy: 0.6455 - auc_1: 0.8554 - val_loss: 0.8761 - val_categorical_accuracy: 0.6571 - val_auc_1: 0.8690\n",
      "Epoch 7/8\n",
      "224/224 [==============================] - 1s 5ms/step - loss: 0.8864 - categorical_accuracy: 0.6438 - auc_1: 0.8649 - val_loss: 0.8488 - val_categorical_accuracy: 0.7036 - val_auc_1: 0.8809\n",
      "Epoch 8/8\n",
      "224/224 [==============================] - 1s 5ms/step - loss: 0.8583 - categorical_accuracy: 0.6643 - auc_1: 0.8727 - val_loss: 0.8306 - val_categorical_accuracy: 0.6786 - val_auc_1: 0.8804\n"
     ]
    },
    {
     "data": {
      "text/plain": [
       "<keras.callbacks.History at 0x7fecac6faf70>"
      ]
     },
     "execution_count": 18,
     "metadata": {},
     "output_type": "execute_result"
    }
   ],
   "source": [
    "#train\n",
    "model.fit(\n",
    "        training_iterator,\n",
    "        steps_per_epoch=len(x_train)/5,\n",
    "        epochs=8,\n",
    "        validation_data=validation_iterator,\n",
    "        validation_steps=len(x_valid)/5)"
   ]
  },
  {
   "cell_type": "code",
   "execution_count": null,
   "id": "74eddb4f",
   "metadata": {},
   "outputs": [],
   "source": []
  }
 ],
 "metadata": {
  "kernelspec": {
   "display_name": "Python 3 (ipykernel)",
   "language": "python",
   "name": "python3"
  },
  "language_info": {
   "codemirror_mode": {
    "name": "ipython",
    "version": 3
   },
   "file_extension": ".py",
   "mimetype": "text/x-python",
   "name": "python",
   "nbconvert_exporter": "python",
   "pygments_lexer": "ipython3",
   "version": "3.8.10"
  }
 },
 "nbformat": 4,
 "nbformat_minor": 5
}
