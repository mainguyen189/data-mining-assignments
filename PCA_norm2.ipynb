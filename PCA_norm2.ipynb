{
  "nbformat": 4,
  "nbformat_minor": 0,
  "metadata": {
    "colab": {
      "provenance": [],
      "authorship_tag": "ABX9TyPJpxMC/3dwQC4e8PxOJzSd",
      "include_colab_link": true
    },
    "kernelspec": {
      "name": "python3",
      "display_name": "Python 3"
    },
    "language_info": {
      "name": "python"
    }
  },
  "cells": [
    {
      "cell_type": "markdown",
      "metadata": {
        "id": "view-in-github",
        "colab_type": "text"
      },
      "source": [
        "<a href=\"https://colab.research.google.com/github/mion158/data-mining-assignments/blob/main/PCA_norm2.ipynb\" target=\"_parent\"><img src=\"https://colab.research.google.com/assets/colab-badge.svg\" alt=\"Open In Colab\"/></a>"
      ]
    },
    {
      "cell_type": "code",
      "execution_count": 1,
      "metadata": {
        "id": "O0nPhQc6MEeO"
      },
      "outputs": [],
      "source": [
        "import numpy as np\n",
        "import pandas as pd\n",
        "from sklearn.decomposition import PCA\n",
        "from sklearn.svm import LinearSVC\n",
        "from sklearn.model_selection import train_test_split\n",
        "import matplotlib.pyplot as plt\n",
        "import seaborn as sns"
      ]
    },
    {
      "cell_type": "code",
      "source": [
        "data_matrix = pd.read_csv('https://raw.githubusercontent.com/mion158/data-mining-assignments/main/Principal%20component%20analysis/data_matrix.csv')\n",
        "classes = pd.read_csv('https://raw.githubusercontent.com/mion158/data-mining-assignments/main/Principal%20component%20analysis/classes.csv', index_col=0)['class']"
      ],
      "metadata": {
        "id": "F2QgMQbJMMBg"
      },
      "execution_count": 2,
      "outputs": []
    },
    {
      "cell_type": "code",
      "source": [
        "# Standardize the data matrix\n",
        "mean = data_matrix.mean(axis=0)\n",
        "sttd = data_matrix.std(axis=0)\n",
        "data_matrix_standardized = (data_matrix - mean) / sttd"
      ],
      "metadata": {
        "id": "6RZcprvnMMDG"
      },
      "execution_count": 3,
      "outputs": []
    },
    {
      "cell_type": "code",
      "source": [
        "# Find the principal components\n",
        "pca = PCA()\n",
        "# Fit the standardized data and calculate the principal components\n",
        "principal_components = pca.fit_transform(data_matrix_standardized)\n",
        "print(f'Number of features in the data matrix: {principal_components.shape[1]}')\n",
        "print(f'Number of features in the principal components: {data_matrix.shape[1]}')"
      ],
      "metadata": {
        "colab": {
          "base_uri": "https://localhost:8080/"
        },
        "id": "Q__b6gzkMME1",
        "outputId": "bbb834cd-10d3-46a6-f748-6a08a862ce23"
      },
      "execution_count": 4,
      "outputs": [
        {
          "output_type": "stream",
          "name": "stdout",
          "text": [
            "Number of features in the data matrix: 11\n",
            "Number of features in the principal components: 11\n"
          ]
        }
      ]
    },
    {
      "cell_type": "code",
      "source": [
        "# Find the eigenvalues from the singular values\n",
        "singular_values = pca.singular_values_\n",
        "eigenvalues = singular_values ** 2"
      ],
      "metadata": {
        "id": "0du6iL8XMMHN"
      },
      "execution_count": 5,
      "outputs": []
    },
    {
      "cell_type": "code",
      "source": [
        "# Eigenvectors are in the property `.components_` as row vectors. To turn them into column vectors, transpose them using the NumPy method `.T`.\n",
        "eigenvectors = pca.components_.T\n"
      ],
      "metadata": {
        "id": "Cz6XpjuTMMJN"
      },
      "execution_count": 6,
      "outputs": []
    },
    {
      "cell_type": "code",
      "source": [
        "# Get the variance ratios from the `explained_variance_ratio_`\n",
        "principal_axes_variance_ratios = pca.explained_variance_ratio_\n",
        "principal_axes_variance_percents = principal_axes_variance_ratios * 100"
      ],
      "metadata": {
        "id": "OEclPwzmMMLL"
      },
      "execution_count": 7,
      "outputs": []
    },
    {
      "cell_type": "code",
      "source": [
        "# Calculating principal components with 2 components\n",
        "# Initialize a PCA object with 2 components\n",
        "pca = PCA(n_components=2) \n",
        " \n",
        "# Fit the standardized data and calculate the principal components\n",
        "principal_components = pca.fit_transform(data_matrix_standardized)"
      ],
      "metadata": {
        "id": "HnleegArMMNK"
      },
      "execution_count": 9,
      "outputs": []
    },
    {
      "cell_type": "code",
      "source": [
        "# Print the DataFrame\n",
        "print(f'Number of Principal Components Features: {principal_components.shape[1]}')\n",
        "print(f'Number of Original Data Features: {data_matrix_standardized.shape[1]}')"
      ],
      "metadata": {
        "colab": {
          "base_uri": "https://localhost:8080/"
        },
        "id": "tz_gsmJ7MMPT",
        "outputId": "78632ac0-7c7a-4fd8-e7d7-63800da8a683"
      },
      "execution_count": 10,
      "outputs": [
        {
          "output_type": "stream",
          "name": "stdout",
          "text": [
            "Number of Principal Components Features: 2\n",
            "Number of Original Data Features: 11\n"
          ]
        }
      ]
    },
    {
      "cell_type": "code",
      "source": [
        "# Plot the principal components as a scatterplot\n",
        "principal_components_data = pd.DataFrame({\n",
        "    'PC1': principal_components[:, 0],\n",
        "    'PC2': principal_components[:, 1],\n",
        "    'class': classes,\n",
        "})\n",
        "\n",
        "sns.lmplot(x='PC1', y='PC2', data=principal_components_data, hue='class', fit_reg=False)\n",
        "plt.show()"
      ],
      "metadata": {
        "colab": {
          "base_uri": "https://localhost:8080/",
          "height": 369
        },
        "id": "5W2KBN-4MMSr",
        "outputId": "a017de02-3afe-4e1c-a82a-08b8054b80dc"
      },
      "execution_count": 11,
      "outputs": [
        {
          "output_type": "display_data",
          "data": {
            "text/plain": [
              "<Figure size 402.375x360 with 1 Axes>"
            ],
            "image/png": "[encoded data removed]"
          },
          "metadata": {
            "needs_background": "light"
          }
        }
      ]
    },
    {
      "cell_type": "code",
      "source": [
        "# Use the one-hot-encoded classes as the y\n",
        "y = classes.astype('category').cat.codes"
      ],
      "metadata": {
        "id": "AjY8z8eDM3ld"
      },
      "execution_count": 12,
      "outputs": []
    },
    {
      "cell_type": "code",
      "source": [
        "# Get principal components with 2 features \n",
        "# Perform PCA using 2 components\n",
        "pca_1 = PCA(n_components=2) \n",
        " \n",
        "# Use the principal components as X and split the data into 33% testing and the rest training\n",
        "X = pca_1.fit_transform(data_matrix_standardized) \n",
        "X_train, X_test, y_train, y_test = train_test_split(X, y, test_size=0.33, random_state=42)"
      ],
      "metadata": {
        "id": "eLt7k8C5M3nc"
      },
      "execution_count": 13,
      "outputs": []
    },
    {
      "cell_type": "code",
      "source": [
        "# Create a Linear Support Vector Classifier\n",
        "svc_1 = LinearSVC(random_state=0, tol=1e-5)\n",
        "svc_1.fit(X_train, y_train) \n",
        " \n",
        "# Generate a score for the testing data\n",
        "score_1 = svc_1.score(X_test, y_test)\n",
        "print(f'Score for model with 2 PCA features: {score_1}')\n"
      ],
      "metadata": {
        "colab": {
          "base_uri": "https://localhost:8080/"
        },
        "id": "QrsL90NoM3qP",
        "outputId": "815aeee5-34b0-44e9-8e56-9124f5aa2326"
      },
      "execution_count": 14,
      "outputs": [
        {
          "output_type": "stream",
          "name": "stdout",
          "text": [
            "Score for model with 2 PCA features: 0.8649036163772503\n"
          ]
        },
        {
          "output_type": "stream",
          "name": "stderr",
          "text": [
            "/usr/local/lib/python3.7/dist-packages/sklearn/svm/_base.py:1208: ConvergenceWarning: Liblinear failed to converge, increase the number of iterations.\n",
            "  ConvergenceWarning,\n"
          ]
        }
      ]
    },
    {
      "cell_type": "code",
      "source": [
        "# Using the original features \n",
        "# Select two features from the original data\n",
        "first_two_original_features = [0, 1]\n",
        "X_original = data_matrix_standardized.iloc[:, first_two_original_features]\n",
        " \n",
        "# Split the data intro 33% testing and the rest training\n",
        "X_train, X_test, y_train, y_test = train_test_split(X_original, y, test_size=0.33, random_state=42)"
      ],
      "metadata": {
        "id": "q7zOq-kGM3t3"
      },
      "execution_count": 15,
      "outputs": []
    },
    {
      "cell_type": "code",
      "source": [
        "# Create a Linear Support Vector Classifier\n",
        "svc_2 = LinearSVC(random_state=0)\n",
        "svc_2.fit(X_train, y_train)\n",
        " \n",
        "# Generate a score for the testing data\n",
        "score_2 = svc_2.score(X_test, y_test)\n",
        "print(f'Score for model with 2 randomly selected features: {score_2}')"
      ],
      "metadata": {
        "colab": {
          "base_uri": "https://localhost:8080/"
        },
        "id": "HfnnKfXLNJUN",
        "outputId": "1b99ed14-906a-4e40-d731-58149fb482fd"
      },
      "execution_count": 16,
      "outputs": [
        {
          "output_type": "stream",
          "name": "stdout",
          "text": [
            "Score for model with 2 randomly selected features: 0.9993627529074398\n"
          ]
        }
      ]
    }
  ]
}