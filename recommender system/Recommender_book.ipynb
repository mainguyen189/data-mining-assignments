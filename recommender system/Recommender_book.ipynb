{
  "nbformat": 4,
  "nbformat_minor": 0,
  "metadata": {
    "colab": {
      "provenance": [],
      "authorship_tag": "ABX9TyMaV7Xqh8izJEJmaF9PHVyl",
      "include_colab_link": true
    },
    "kernelspec": {
      "name": "python3",
      "display_name": "Python 3"
    },
    "language_info": {
      "name": "python"
    }
  },
  "cells": [
    {
      "cell_type": "markdown",
      "metadata": {
        "id": "view-in-github",
        "colab_type": "text"
      },
      "source": [
        "<a href=\"https://colab.research.google.com/github/mion158/data-mining-assignments/blob/main/Recommender_book.ipynb\" target=\"_parent\"><img src=\"https://colab.research.google.com/assets/colab-badge.svg\" alt=\"Open In Colab\"/></a>"
      ]
    },
    {
      "cell_type": "code",
      "execution_count": 3,
      "metadata": {
        "colab": {
          "base_uri": "https://localhost:8080/"
        },
        "id": "WnCHRhb-p4c9",
        "outputId": "385f4763-9b86-4766-e9f0-8627cc77ad1d"
      },
      "outputs": [
        {
          "output_type": "stream",
          "name": "stdout",
          "text": [
            "Looking in indexes: https://pypi.org/simple, https://us-python.pkg.dev/colab-wheels/public/simple/\n",
            "Collecting surprise\n",
            "  Downloading surprise-0.1-py2.py3-none-any.whl (1.8 kB)\n",
            "Collecting scikit-surprise\n",
            "  Downloading scikit-surprise-1.1.3.tar.gz (771 kB)\n",
            "\u001b[2K     \u001b[90m━━━━━━━━━━━━━━━━━━━━━━━━━━━━━━━━━━━━━━\u001b[0m \u001b[32m772.0/772.0 KB\u001b[0m \u001b[31m13.7 MB/s\u001b[0m eta \u001b[36m0:00:00\u001b[0m\n",
            "\u001b[?25h  Preparing metadata (setup.py) ... \u001b[?25l\u001b[?25hdone\n",
            "Requirement already satisfied: joblib>=1.0.0 in /usr/local/lib/python3.8/dist-packages (from scikit-surprise->surprise) (1.2.0)\n",
            "Requirement already satisfied: numpy>=1.17.3 in /usr/local/lib/python3.8/dist-packages (from scikit-surprise->surprise) (1.21.6)\n",
            "Requirement already satisfied: scipy>=1.3.2 in /usr/local/lib/python3.8/dist-packages (from scikit-surprise->surprise) (1.7.3)\n",
            "Building wheels for collected packages: scikit-surprise\n",
            "  Building wheel for scikit-surprise (setup.py) ... \u001b[?25l\u001b[?25hdone\n",
            "  Created wheel for scikit-surprise: filename=scikit_surprise-1.1.3-cp38-cp38-linux_x86_64.whl size=3366462 sha256=36c5783373ad27db599fb4847bc030e086d7f7798e7593534cf8f3b653861b49\n",
            "  Stored in directory: /root/.cache/pip/wheels/af/db/86/2c18183a80ba05da35bf0fb7417aac5cddbd93bcb1b92fd3ea\n",
            "Successfully built scikit-surprise\n",
            "Installing collected packages: scikit-surprise, surprise\n",
            "Successfully installed scikit-surprise-1.1.3 surprise-0.1\n"
          ]
        }
      ],
      "source": [
        "!pip install surprise"
      ]
    },
    {
      "cell_type": "code",
      "source": [
        "import pandas as pd"
      ],
      "metadata": {
        "id": "2Rkff2norJ9F"
      },
      "execution_count": 4,
      "outputs": []
    },
    {
      "cell_type": "code",
      "source": [
        "book = pd.read_csv('https://gist.githubusercontent.com/codecademydev/33dbe210cd84928ff528bfa8af231943/raw/f65d44df8385254f428db651113b97cb560a51f3/goodreads_ratings.csv')\n",
        "book.head()"
      ],
      "metadata": {
        "colab": {
          "base_uri": "https://localhost:8080/",
          "height": 617
        },
        "id": "AWOM5vI9rd_u",
        "outputId": "18315a39-3d48-4080-e2c3-c086d2ef54c5"
      },
      "execution_count": 6,
      "outputs": [
        {
          "output_type": "execute_result",
          "data": {
            "text/plain": [
              "                            user_id   book_id  \\\n",
              "0  d089c9b670c0b0b339353aebbace46a1   7686667   \n",
              "1  6dcb2c16e12a41ae0c6c38e9d46f3292  18073066   \n",
              "2  244e0ce681148a7586d7746676093ce9  13610986   \n",
              "3  73fcc25ff29f8b73b3a7578aec846394  27274343   \n",
              "4  f8880e158a163388a990b64fec7df300  11614718   \n",
              "\n",
              "                          review_id  rating  \\\n",
              "0  3337e0e75701f7f682de11638ccdc60c       3   \n",
              "1  7201aa3c1161f2bad81258b6d4686c16       5   \n",
              "2  07a203f87bfe1b65ff58774667f6f80d       5   \n",
              "3  8be2d87b07098c16f9742020ec459383       1   \n",
              "4  a29c4ba03e33ad073a414ac775266c5f       4   \n",
              "\n",
              "                                         review_text  \\\n",
              "0  Like Matched, this book felt like it was echoi...   \n",
              "1  WOW again! 4,5 Stars \\n So i wont forget to me...   \n",
              "2  The second novel was hot & heavy. Not only in ...   \n",
              "3  What a maddening waste of time. And I unfortun...   \n",
              "4  4.5 stars! \\n This was an awesome read! \\n So ...   \n",
              "\n",
              "                       date_added                    date_updated  \\\n",
              "0  Fri Apr 29 14:45:32 -0700 2011  Mon Feb 02 12:57:57 -0800 2015   \n",
              "1  Thu Aug 01 02:15:18 -0700 2013  Mon Nov 18 14:49:26 -0800 2013   \n",
              "2  Sun Nov 23 18:17:50 -0800 2014  Sat May 16 20:34:19 -0700 2015   \n",
              "3  Mon Oct 31 08:29:06 -0700 2016  Wed Apr 26 16:06:28 -0700 2017   \n",
              "4  Tue Mar 26 10:55:30 -0700 2013  Mon Sep 08 09:57:05 -0700 2014   \n",
              "\n",
              "                          read_at                      started_at  n_votes  \\\n",
              "0  Sat Jun 18 00:00:00 -0700 2011  Thu May 19 00:00:00 -0700 2011        0   \n",
              "1  Mon Aug 19 00:00:00 -0700 2013  Mon Aug 12 00:00:00 -0700 2013       16   \n",
              "2  Fri Dec 19 00:00:00 -0800 2014  Sun Nov 23 00:00:00 -0800 2014        0   \n",
              "3  Wed Apr 26 16:06:28 -0700 2017  Sun Apr 23 00:00:00 -0700 2017        0   \n",
              "4  Sun Apr 20 09:26:41 -0700 2014  Fri Apr 18 00:00:00 -0700 2014        0   \n",
              "\n",
              "   n_comments  \n",
              "0           0  \n",
              "1          14  \n",
              "2           0  \n",
              "3           1  \n",
              "4           0  "
            ],
            "text/html": [
              "\n",
              "  <div id=\"df-d508ae07-c31f-46b9-90da-7bf109c0efff\">\n",
              "    <div class=\"colab-df-container\">\n",
              "      <div>\n",
              "<style scoped>\n",
              "    .dataframe tbody tr th:only-of-type {\n",
              "        vertical-align: middle;\n",
              "    }\n",
              "\n",
              "    .dataframe tbody tr th {\n",
              "        vertical-align: top;\n",
              "    }\n",
              "\n",
              "    .dataframe thead th {\n",
              "        text-align: right;\n",
              "    }\n",
              "</style>\n",
              "<table border=\"1\" class=\"dataframe\">\n",
              "  <thead>\n",
              "    <tr style=\"text-align: right;\">\n",
              "      <th></th>\n",
              "      <th>user_id</th>\n",
              "      <th>book_id</th>\n",
              "      <th>review_id</th>\n",
              "      <th>rating</th>\n",
              "      <th>review_text</th>\n",
              "      <th>date_added</th>\n",
              "      <th>date_updated</th>\n",
              "      <th>read_at</th>\n",
              "      <th>started_at</th>\n",
              "      <th>n_votes</th>\n",
              "      <th>n_comments</th>\n",
              "    </tr>\n",
              "  </thead>\n",
              "  <tbody>\n",
              "    <tr>\n",
              "      <th>0</th>\n",
              "      <td>d089c9b670c0b0b339353aebbace46a1</td>\n",
              "      <td>7686667</td>\n",
              "      <td>3337e0e75701f7f682de11638ccdc60c</td>\n",
              "      <td>3</td>\n",
              "      <td>Like Matched, this book felt like it was echoi...</td>\n",
              "      <td>Fri Apr 29 14:45:32 -0700 2011</td>\n",
              "      <td>Mon Feb 02 12:57:57 -0800 2015</td>\n",
              "      <td>Sat Jun 18 00:00:00 -0700 2011</td>\n",
              "      <td>Thu May 19 00:00:00 -0700 2011</td>\n",
              "      <td>0</td>\n",
              "      <td>0</td>\n",
              "    </tr>\n",
              "    <tr>\n",
              "      <th>1</th>\n",
              "      <td>6dcb2c16e12a41ae0c6c38e9d46f3292</td>\n",
              "      <td>18073066</td>\n",
              "      <td>7201aa3c1161f2bad81258b6d4686c16</td>\n",
              "      <td>5</td>\n",
              "      <td>WOW again! 4,5 Stars \\n So i wont forget to me...</td>\n",
              "      <td>Thu Aug 01 02:15:18 -0700 2013</td>\n",
              "      <td>Mon Nov 18 14:49:26 -0800 2013</td>\n",
              "      <td>Mon Aug 19 00:00:00 -0700 2013</td>\n",
              "      <td>Mon Aug 12 00:00:00 -0700 2013</td>\n",
              "      <td>16</td>\n",
              "      <td>14</td>\n",
              "    </tr>\n",
              "    <tr>\n",
              "      <th>2</th>\n",
              "      <td>244e0ce681148a7586d7746676093ce9</td>\n",
              "      <td>13610986</td>\n",
              "      <td>07a203f87bfe1b65ff58774667f6f80d</td>\n",
              "      <td>5</td>\n",
              "      <td>The second novel was hot &amp; heavy. Not only in ...</td>\n",
              "      <td>Sun Nov 23 18:17:50 -0800 2014</td>\n",
              "      <td>Sat May 16 20:34:19 -0700 2015</td>\n",
              "      <td>Fri Dec 19 00:00:00 -0800 2014</td>\n",
              "      <td>Sun Nov 23 00:00:00 -0800 2014</td>\n",
              "      <td>0</td>\n",
              "      <td>0</td>\n",
              "    </tr>\n",
              "    <tr>\n",
              "      <th>3</th>\n",
              "      <td>73fcc25ff29f8b73b3a7578aec846394</td>\n",
              "      <td>27274343</td>\n",
              "      <td>8be2d87b07098c16f9742020ec459383</td>\n",
              "      <td>1</td>\n",
              "      <td>What a maddening waste of time. And I unfortun...</td>\n",
              "      <td>Mon Oct 31 08:29:06 -0700 2016</td>\n",
              "      <td>Wed Apr 26 16:06:28 -0700 2017</td>\n",
              "      <td>Wed Apr 26 16:06:28 -0700 2017</td>\n",
              "      <td>Sun Apr 23 00:00:00 -0700 2017</td>\n",
              "      <td>0</td>\n",
              "      <td>1</td>\n",
              "    </tr>\n",
              "    <tr>\n",
              "      <th>4</th>\n",
              "      <td>f8880e158a163388a990b64fec7df300</td>\n",
              "      <td>11614718</td>\n",
              "      <td>a29c4ba03e33ad073a414ac775266c5f</td>\n",
              "      <td>4</td>\n",
              "      <td>4.5 stars! \\n This was an awesome read! \\n So ...</td>\n",
              "      <td>Tue Mar 26 10:55:30 -0700 2013</td>\n",
              "      <td>Mon Sep 08 09:57:05 -0700 2014</td>\n",
              "      <td>Sun Apr 20 09:26:41 -0700 2014</td>\n",
              "      <td>Fri Apr 18 00:00:00 -0700 2014</td>\n",
              "      <td>0</td>\n",
              "      <td>0</td>\n",
              "    </tr>\n",
              "  </tbody>\n",
              "</table>\n",
              "</div>\n",
              "      <button class=\"colab-df-convert\" onclick=\"convertToInteractive('df-d508ae07-c31f-46b9-90da-7bf109c0efff')\"\n",
              "              title=\"Convert this dataframe to an interactive table.\"\n",
              "              style=\"display:none;\">\n",
              "        \n",
              "  <svg xmlns=\"http://www.w3.org/2000/svg\" height=\"24px\"viewBox=\"0 0 24 24\"\n",
              "       width=\"24px\">\n",
              "    <path d=\"M0 0h24v24H0V0z\" fill=\"none\"/>\n",
              "    <path d=\"M18.56 5.44l.94 2.06.94-2.06 2.06-.94-2.06-.94-.94-2.06-.94 2.06-2.06.94zm-11 1L8.5 8.5l.94-2.06 2.06-.94-2.06-.94L8.5 2.5l-.94 2.06-2.06.94zm10 10l.94 2.06.94-2.06 2.06-.94-2.06-.94-.94-2.06-.94 2.06-2.06.94z\"/><path d=\"M17.41 7.96l-1.37-1.37c-.4-.4-.92-.59-1.43-.59-.52 0-1.04.2-1.43.59L10.3 9.45l-7.72 7.72c-.78.78-.78 2.05 0 2.83L4 21.41c.39.39.9.59 1.41.59.51 0 1.02-.2 1.41-.59l7.78-7.78 2.81-2.81c.8-.78.8-2.07 0-2.86zM5.41 20L4 18.59l7.72-7.72 1.47 1.35L5.41 20z\"/>\n",
              "  </svg>\n",
              "      </button>\n",
              "      \n",
              "  <style>\n",
              "    .colab-df-container {\n",
              "      display:flex;\n",
              "      flex-wrap:wrap;\n",
              "      gap: 12px;\n",
              "    }\n",
              "\n",
              "    .colab-df-convert {\n",
              "      background-color: #E8F0FE;\n",
              "      border: none;\n",
              "      border-radius: 50%;\n",
              "      cursor: pointer;\n",
              "      display: none;\n",
              "      fill: #1967D2;\n",
              "      height: 32px;\n",
              "      padding: 0 0 0 0;\n",
              "      width: 32px;\n",
              "    }\n",
              "\n",
              "    .colab-df-convert:hover {\n",
              "      background-color: #E2EBFA;\n",
              "      box-shadow: 0px 1px 2px rgba(60, 64, 67, 0.3), 0px 1px 3px 1px rgba(60, 64, 67, 0.15);\n",
              "      fill: #174EA6;\n",
              "    }\n",
              "\n",
              "    [theme=dark] .colab-df-convert {\n",
              "      background-color: #3B4455;\n",
              "      fill: #D2E3FC;\n",
              "    }\n",
              "\n",
              "    [theme=dark] .colab-df-convert:hover {\n",
              "      background-color: #434B5C;\n",
              "      box-shadow: 0px 1px 3px 1px rgba(0, 0, 0, 0.15);\n",
              "      filter: drop-shadow(0px 1px 2px rgba(0, 0, 0, 0.3));\n",
              "      fill: #FFFFFF;\n",
              "    }\n",
              "  </style>\n",
              "\n",
              "      <script>\n",
              "        const buttonEl =\n",
              "          document.querySelector('#df-d508ae07-c31f-46b9-90da-7bf109c0efff button.colab-df-convert');\n",
              "        buttonEl.style.display =\n",
              "          google.colab.kernel.accessAllowed ? 'block' : 'none';\n",
              "\n",
              "        async function convertToInteractive(key) {\n",
              "          const element = document.querySelector('#df-d508ae07-c31f-46b9-90da-7bf109c0efff');\n",
              "          const dataTable =\n",
              "            await google.colab.kernel.invokeFunction('convertToInteractive',\n",
              "                                                     [key], {});\n",
              "          if (!dataTable) return;\n",
              "\n",
              "          const docLinkHtml = 'Like what you see? Visit the ' +\n",
              "            '<a target=\"_blank\" href=https://colab.research.google.com/notebooks/data_table.ipynb>data table notebook</a>'\n",
              "            + ' to learn more about interactive tables.';\n",
              "          element.innerHTML = '';\n",
              "          dataTable['output_type'] = 'display_data';\n",
              "          await google.colab.output.renderOutput(dataTable, element);\n",
              "          const docLink = document.createElement('div');\n",
              "          docLink.innerHTML = docLinkHtml;\n",
              "          element.appendChild(docLink);\n",
              "        }\n",
              "      </script>\n",
              "    </div>\n",
              "  </div>\n",
              "  "
            ]
          },
          "metadata": {},
          "execution_count": 6
        }
      ]
    },
    {
      "cell_type": "code",
      "source": [
        "#explore ratings\n",
        "book['rating'].value_counts()"
      ],
      "metadata": {
        "colab": {
          "base_uri": "https://localhost:8080/"
        },
        "id": "S4cDMQXqryJS",
        "outputId": "89c2cbd1-e3dc-4619-db88-dba572cc220a"
      },
      "execution_count": 8,
      "outputs": [
        {
          "output_type": "execute_result",
          "data": {
            "text/plain": [
              "4    1278\n",
              "5    1001\n",
              "3     707\n",
              "2     269\n",
              "1     125\n",
              "0     120\n",
              "Name: rating, dtype: int64"
            ]
          },
          "metadata": {},
          "execution_count": 8
        }
      ]
    },
    {
      "cell_type": "code",
      "source": [
        "#filter 0 values\n",
        "book = book[book['rating'] != 0]\n",
        "book.info()"
      ],
      "metadata": {
        "colab": {
          "base_uri": "https://localhost:8080/"
        },
        "id": "-08eE5oNsLR-",
        "outputId": "4ead9b7e-c2b4-4419-a51f-3a6289404655"
      },
      "execution_count": 10,
      "outputs": [
        {
          "output_type": "stream",
          "name": "stdout",
          "text": [
            "<class 'pandas.core.frame.DataFrame'>\n",
            "Int64Index: 3380 entries, 0 to 3499\n",
            "Data columns (total 11 columns):\n",
            " #   Column        Non-Null Count  Dtype \n",
            "---  ------        --------------  ----- \n",
            " 0   user_id       3380 non-null   object\n",
            " 1   book_id       3380 non-null   int64 \n",
            " 2   review_id     3380 non-null   object\n",
            " 3   rating        3380 non-null   int64 \n",
            " 4   review_text   3380 non-null   object\n",
            " 5   date_added    3380 non-null   object\n",
            " 6   date_updated  3380 non-null   object\n",
            " 7   read_at       3116 non-null   object\n",
            " 8   started_at    2347 non-null   object\n",
            " 9   n_votes       3380 non-null   int64 \n",
            " 10  n_comments    3380 non-null   int64 \n",
            "dtypes: int64(4), object(7)\n",
            "memory usage: 316.9+ KB\n"
          ]
        }
      ]
    },
    {
      "cell_type": "code",
      "source": [
        "#build surprise reader object\n",
        "from surprise import Reader\n",
        "reader = Reader(rating_scale=(1,5))\n",
        "\n",
        "#load book into surprise dataset\n",
        "from surprise import Dataset\n",
        "book_data = Dataset.load_from_df(book[['user_id','book_id','rating']], reader)\n",
        "\n",
        "#split dataset\n",
        "from surprise.model_selection import train_test_split\n",
        "train_set, test_set = train_test_split(book_data, test_size=0.2, random_state=7)"
      ],
      "metadata": {
        "id": "ChuamIE_sLV4"
      },
      "execution_count": 14,
      "outputs": []
    },
    {
      "cell_type": "code",
      "source": [
        "#train collab filtering\n",
        "from surprise import KNNBasic\n",
        "nn_algo = KNNBasic()\n",
        "nn_algo.fit(train_set)"
      ],
      "metadata": {
        "colab": {
          "base_uri": "https://localhost:8080/"
        },
        "id": "Rj6BYkX9sLZ6",
        "outputId": "87ab404d-97d3-4c48-e4a8-d84e0e9d205c"
      },
      "execution_count": 15,
      "outputs": [
        {
          "output_type": "stream",
          "name": "stdout",
          "text": [
            "Computing the msd similarity matrix...\n",
            "Done computing similarity matrix.\n"
          ]
        },
        {
          "output_type": "execute_result",
          "data": {
            "text/plain": [
              "<surprise.prediction_algorithms.knns.KNNBasic at 0x7fe9d2c47f40>"
            ]
          },
          "metadata": {},
          "execution_count": 15
        }
      ]
    },
    {
      "cell_type": "code",
      "source": [
        "#evaluate\n",
        "from surprise import accuracy\n",
        "predictions = nn_algo.test(test_set)\n",
        "accuracy.rmse(predictions)"
      ],
      "metadata": {
        "colab": {
          "base_uri": "https://localhost:8080/"
        },
        "id": "ZfWntZdisLb2",
        "outputId": "b942f0d1-e2ea-4863-f908-1f52ddf18a4b"
      },
      "execution_count": 16,
      "outputs": [
        {
          "output_type": "stream",
          "name": "stdout",
          "text": [
            "RMSE: 1.1105\n"
          ]
        },
        {
          "output_type": "execute_result",
          "data": {
            "text/plain": [
              "1.110471008157185"
            ]
          },
          "metadata": {},
          "execution_count": 16
        }
      ]
    },
    {
      "cell_type": "code",
      "source": [
        "#test recommendation\n",
        "nn_algo.predict('8842281e1d1347389f2ab93d60773d4d', '18007564').est"
      ],
      "metadata": {
        "colab": {
          "base_uri": "https://localhost:8080/"
        },
        "id": "PBpH3PuRsLeG",
        "outputId": "ef5603d2-ccf6-4b8f-a73c-bf9dbfcd065c"
      },
      "execution_count": 17,
      "outputs": [
        {
          "output_type": "execute_result",
          "data": {
            "text/plain": [
              "3.8250739644970415"
            ]
          },
          "metadata": {},
          "execution_count": 17
        }
      ]
    },
    {
      "cell_type": "code",
      "source": [],
      "metadata": {
        "id": "Iiy4eEjysLgY"
      },
      "execution_count": null,
      "outputs": []
    }
  ]
}
