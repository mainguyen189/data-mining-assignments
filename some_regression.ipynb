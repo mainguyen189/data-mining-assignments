{
  "nbformat": 4,
  "nbformat_minor": 0,
  "metadata": {
    "colab": {
      "provenance": [],
      "authorship_tag": "ABX9TyMdRhKFMmxbhF5BUW6F64kl",
      "include_colab_link": true
    },
    "kernelspec": {
      "name": "python3",
      "display_name": "Python 3"
    },
    "language_info": {
      "name": "python"
    }
  },
  "cells": [
    {
      "cell_type": "markdown",
      "metadata": {
        "id": "view-in-github",
        "colab_type": "text"
      },
      "source": [
        "<a href=\"https://colab.research.google.com/github/mion158/data-mining-assignments/blob/main/some_regression.ipynb\" target=\"_parent\"><img src=\"https://colab.research.google.com/assets/colab-badge.svg\" alt=\"Open In Colab\"/></a>"
      ]
    },
    {
      "cell_type": "code",
      "execution_count": 6,
      "metadata": {
        "id": "y-8EmXCEu-ul"
      },
      "outputs": [],
      "source": [
        "from sklearn.datasets import load_breast_cancer, make_classification, make_blobs, make_regression\n",
        "from sklearn.model_selection import train_test_split\n",
        "import matplotlib.pyplot as plt\n",
        "from matplotlib.colors import ListedColormap\n",
        "import pandas as pd"
      ]
    },
    {
      "cell_type": "code",
      "source": [
        "#make a random dataset\n",
        "X, y = make_regression(n_samples = 100, n_features=1, n_informative=2, bias = 150, noise = 30, random_state=0)\n",
        "\n",
        "X_train, X_test, y_train, y_test = train_test_split(X,y, random_state=0)\n",
        "from sklearn.linear_model import LinearRegression\n",
        "linreg = LinearRegression().fit(X_train, y_train)\n",
        "\n",
        "print('coefficient: ', linreg.coef_)\n",
        "print('intercept: ', linreg.intercept_)\n",
        "print('R-squared score training: ', linreg.score(X_train,y_train))\n",
        "print('R-squared score test: ', linreg.score(X_test,y_test))"
      ],
      "metadata": {
        "id": "aPGYT-BO0Jdt",
        "colab": {
          "base_uri": "https://localhost:8080/"
        },
        "outputId": "d2d3ce95-6777-4070-bba4-3619a17cee39"
      },
      "execution_count": 19,
      "outputs": [
        {
          "output_type": "stream",
          "name": "stdout",
          "text": [
            "coefficient:  [45.70870465]\n",
            "intercept:  148.44575345658873\n",
            "R-squared score training:  0.6785950771141656\n",
            "R-squared score test:  0.4915961593493031\n"
          ]
        }
      ]
    },
    {
      "cell_type": "code",
      "source": [
        "plt.scatter(X, y, marker = 'o')\n",
        "plt.plot(X, linreg.coef_*X + linreg.intercept_, 'r-')"
      ],
      "metadata": {
        "id": "maSpZ1T10Jgs",
        "colab": {
          "base_uri": "https://localhost:8080/",
          "height": 282
        },
        "outputId": "310f1382-56cf-49df-9cad-198772c4158c"
      },
      "execution_count": 20,
      "outputs": [
        {
          "output_type": "execute_result",
          "data": {
            "text/plain": [
              "[<matplotlib.lines.Line2D at 0x7fd533932590>]"
            ]
          },
          "metadata": {},
          "execution_count": 20
        },
        {
          "output_type": "display_data",
          "data": {
            "text/plain": [
              "<Figure size 432x288 with 1 Axes>"
            ],
            "image/png": "[encoded data removed]"
          },
          "metadata": {
            "needs_background": "light"
          }
        }
      ]
    },
    {
      "cell_type": "code",
      "source": [
        "#multiple regression\n",
        "data, labels = make_regression(n_samples = 100, n_features=5, n_informative=2, bias = 150, noise = 30, random_state=0)\n",
        "\n",
        "training_data, test_data, training_labels, test_labels = train_test_split(data, labels, random_state=0)\n",
        "\n",
        "linreg2 = LinearRegression().fit(training_data,training_labels)\n",
        "\n",
        "print('coefficient: ', linreg2.coef_)\n",
        "print('intercept: ', linreg2.intercept_)\n",
        "print('R-squared score training: ', linreg2.score(training_data, training_labels))\n",
        "print('R-squared score test: ', linreg2.score(test_data,test_labels))"
      ],
      "metadata": {
        "id": "8390QF4_0Jjr",
        "colab": {
          "base_uri": "https://localhost:8080/"
        },
        "outputId": "8e68e14a-b809-4d9d-d8f2-f9eba2ee3d40"
      },
      "execution_count": 25,
      "outputs": [
        {
          "output_type": "stream",
          "name": "stdout",
          "text": [
            "coefficient:  [45.30444666 -5.84003719 98.49068547 -0.79179155  2.44598917]\n",
            "intercept:  142.18019642536393\n",
            "R-squared score training:  0.9311914653881985\n",
            "R-squared score test:  0.853367120019873\n"
          ]
        }
      ]
    },
    {
      "cell_type": "code",
      "source": [
        "#ridge regression \n",
        "from sklearn.linear_model import Ridge\n",
        "import numpy as np\n",
        "X_train, X_test, y_train, y_test = train_test_split(X,y, random_state=0)\n",
        "\n",
        "linridge = Ridge(alpha=20.0).fit(X_train, y_train)\n",
        "print('coefficient: ', linridge.coef_)\n",
        "print('intercept: ', linridge.intercept_)\n",
        "print('R-squared score training: ', linridge.score(X_train,y_train))\n",
        "print('R-squared score test: ', linridge.score(X_test,y_test))\n",
        "print('number of non-zero features: ', np.sum(linridge.coef_!=0))"
      ],
      "metadata": {
        "id": "7YRroZgR0JmG",
        "colab": {
          "base_uri": "https://localhost:8080/"
        },
        "outputId": "ab895bf7-082e-4b5b-d8ec-e64b8e856609"
      },
      "execution_count": 28,
      "outputs": [
        {
          "output_type": "stream",
          "name": "stdout",
          "text": [
            "coefficient:  [ 3.44928989e+01 -1.32019670e+00  7.62706118e+01 -2.30480396e-01\n",
            "  1.75033092e-02]\n",
            "intercept:  139.444669922855\n",
            "R-squared score training:  0.8840252333663869\n",
            "R-squared score test:  0.822274454535411\n",
            "number of non-zero features:  5\n"
          ]
        }
      ]
    },
    {
      "cell_type": "code",
      "source": [
        "#with feature normalization and regulization parameter alpha\n",
        "from sklearn.preprocessing import MinMaxScaler\n",
        "scaler = MinMaxScaler()\n",
        "\n",
        "X_train, X_test, y_train, y_test = train_test_split(X,y, random_state=0)\n",
        "\n",
        "X_train_scaled = scaler.fit_transform(X_train)\n",
        "X_test_scaled = scaler.fit_transform(X_test)\n",
        "\n",
        "for alpha in [0,10,50,100,1000]:\n",
        "  linridge = Ridge(alpha = alpha).fit(X_train_scaled,y_train)\n",
        "  r2_train = linridge.score(X_train_scaled,y_train)\n",
        "  r2_test = linridge.score(X_test_scaled,y_test)\n",
        "  num_big_coef = np.sum(abs(linridge.coef_)>1.0)\n",
        "  print('alpha = {}, number of big coef = {}, r^2 training = {}, r^2 test = {}'.format(alpha, num_big_coef, r2_train, r2_test))"
      ],
      "metadata": {
        "colab": {
          "base_uri": "https://localhost:8080/"
        },
        "id": "S_yrmo5hEcEj",
        "outputId": "6a8a0b03-910f-4119-e699-cdf1b351d526"
      },
      "execution_count": 34,
      "outputs": [
        {
          "output_type": "stream",
          "name": "stdout",
          "text": [
            "alpha = 0, number of big coef = 5, r^2 training = 0.9311914653881985, r^2 test = 0.39664285693492995\n",
            "alpha = 10, number of big coef = 5, r^2 training = 0.4006785273352138, r^2 test = 0.3496450029801136\n",
            "alpha = 50, number of big coef = 5, r^2 training = 0.11193804127389151, r^2 test = 0.05565672610360639\n",
            "alpha = 100, number of big coef = 4, r^2 training = 0.05882713987609611, r^2 test = -0.0011106928551454232\n",
            "alpha = 1000, number of big coef = 1, r^2 training = 0.0061647832731864805, r^2 test = -0.05786138774535754\n"
          ]
        }
      ]
    },
    {
      "cell_type": "code",
      "source": [
        "#lasso regression\n",
        "from sklearn.linear_model import Lasso\n",
        "\n",
        "linlasso = Lasso(alpha=2.0, max_iter=10000).fit(X_train_scaled, y_train)\n",
        "print('coefficient: ', linlasso.coef_)\n",
        "print('intercept: ', linlasso.intercept_)\n",
        "print('R-squared score training: ', linlasso.score(X_train,y_train))\n",
        "print('R-squared score test: ', linlasso.score(X_test,y_test))\n",
        "print('number of non-zero features: ', np.sum(linlasso.coef_!=0))"
      ],
      "metadata": {
        "colab": {
          "base_uri": "https://localhost:8080/"
        },
        "id": "_SDVv8iMEcGW",
        "outputId": "f683a5d4-0d70-491e-9254-8d584f2e99ee"
      },
      "execution_count": 35,
      "outputs": [
        {
          "output_type": "stream",
          "name": "stdout",
          "text": [
            "coefficient:  [158.97214846  -0.         411.53227553  -0.           0.        ]\n",
            "intercept:  -192.82333707624554\n",
            "R-squared score training:  -19.58532283724237\n",
            "R-squared score test:  -20.033796771726532\n",
            "number of non-zero features:  2\n"
          ]
        }
      ]
    },
    {
      "cell_type": "code",
      "source": [
        "#with regularization parameter alpha\n",
        "for alpha in [0,10,50,100,1000]:\n",
        "  linlasso = Lasso(alpha = alpha, max_iter=10000).fit(X_train_scaled,y_train)\n",
        "  r2_train = linlasso.score(X_train_scaled,y_train)\n",
        "  r2_test = linlasso.score(X_test_scaled,y_test)\n",
        "  num_nonzero_coef = np.sum(linlasso.coef_ != 0.0)\n",
        "  print('alpha = {}, number of non-zero coef = {}, r^2 training = {}, r^2 test = {}'.format(alpha, num_nonzero_coef, r2_train, r2_test))"
      ],
      "metadata": {
        "colab": {
          "base_uri": "https://localhost:8080/"
        },
        "id": "UR-thibsEcIV",
        "outputId": "d6efd8bb-ecfd-4378-84d1-85fb34b03626"
      },
      "execution_count": 36,
      "outputs": [
        {
          "output_type": "stream",
          "name": "stdout",
          "text": [
            "alpha = 0, number of non-zero coef = 5, r^2 training = 0.9311914653881985, r^2 test = 0.39664285693492785\n",
            "alpha = 10, number of non-zero coef = 1, r^2 training = 0.5775360312412285, r^2 test = 0.42054395899934593\n",
            "alpha = 50, number of non-zero coef = 0, r^2 training = 0.0, r^2 test = -0.06453008082670264\n",
            "alpha = 100, number of non-zero coef = 0, r^2 training = 0.0, r^2 test = -0.06453008082670264\n",
            "alpha = 1000, number of non-zero coef = 0, r^2 training = 0.0, r^2 test = -0.06453008082670264\n"
          ]
        },
        {
          "output_type": "stream",
          "name": "stderr",
          "text": [
            "/usr/local/lib/python3.7/dist-packages/ipykernel_launcher.py:3: UserWarning: With alpha=0, this algorithm does not converge well. You are advised to use the LinearRegression estimator\n",
            "  This is separate from the ipykernel package so we can avoid doing imports until\n",
            "/usr/local/lib/python3.7/dist-packages/sklearn/linear_model/_coordinate_descent.py:648: UserWarning: Coordinate descent with no regularization may lead to unexpected results and is discouraged.\n",
            "  coef_, l1_reg, l2_reg, X, y, max_iter, tol, rng, random, positive\n",
            "/usr/local/lib/python3.7/dist-packages/sklearn/linear_model/_coordinate_descent.py:648: ConvergenceWarning: Objective did not converge. You might want to increase the number of iterations, check the scale of the features or consider increasing regularisation. Duality gap: 3.025e+04, tolerance: 8.794e+01 Linear regression models with null weight for the l1 regularization term are more efficiently fitted using one of the solvers implemented in sklearn.linear_model.Ridge/RidgeCV instead.\n",
            "  coef_, l1_reg, l2_reg, X, y, max_iter, tol, rng, random, positive\n"
          ]
        }
      ]
    },
    {
      "cell_type": "code",
      "source": [
        "#polynomial regression\n",
        "\n",
        "from sklearn.preprocessing import PolynomialFeatures\n",
        "\n",
        "poly = PolynomialFeatures(degree=2)\n",
        "X_poly = poly.fit_transform(X)\n",
        "\n",
        "X_train, X_test, y_train, y_test = train_test_split(X_poly, y, random_state=0)\n",
        "\n",
        "#many polynomial features may lead to overfitting so use regression with regularization penalty\n",
        "linreg = Ridge().fit(X_train, y_train)\n",
        "\n",
        "print('coefficient: ', linreg.coef_)\n",
        "print('intercept: ', linreg.intercept_)\n",
        "print('R-squared score training: ', linreg.score(X_train,y_train))\n",
        "print('R-squared score test: ', linreg.score(X_test,y_test))"
      ],
      "metadata": {
        "colab": {
          "base_uri": "https://localhost:8080/"
        },
        "id": "ntnNq1pNEcKo",
        "outputId": "37321a2f-2dea-4106-dc09-b7ef0d8a9768"
      },
      "execution_count": 38,
      "outputs": [
        {
          "output_type": "stream",
          "name": "stdout",
          "text": [
            "coefficient:  [  0.          43.74941261 -11.73883724 100.30296862  -0.40723712\n",
            "   7.34225752   3.26507977   2.28212126  12.23839564   2.06022639\n",
            "   1.55204574   1.50574872  -2.38276197   3.19939479  -4.99426805\n",
            "  -0.18665899   2.4790342    5.44492236  -3.31084316   1.93019642\n",
            "   2.41907746]\n",
            "intercept:  137.72801950680173\n",
            "R-squared score training:  0.9495412116797516\n",
            "R-squared score test:  0.8409720604870493\n"
          ]
        }
      ]
    },
    {
      "cell_type": "code",
      "source": [],
      "metadata": {
        "id": "KQuG7YWLEcOB"
      },
      "execution_count": null,
      "outputs": []
    }
  ]
}